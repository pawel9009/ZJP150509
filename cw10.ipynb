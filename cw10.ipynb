{
 "cells": [
  {
   "cell_type": "markdown",
   "source": [
    "Stwórz klasę Train z prywatnym polem passengers będącym listą napisów przechowującym dane\n",
    "pasażerów pociągu. W klasie dodaj. W klasie dodaj metody magiczne __setitem__ i __getitem__\n",
    "aby sprawdzały czy indeks istnieje przed wykonaniem odpowiedniej operacji. Przy ustawianiu powinna\n",
    "być opcja nadpisania elementu na pozycji już istniejącej lub dodanie nowego elementu na koniec listy.\n",
    "Zabezpiecz kod za pomocą wyrzucania wyjątków."
   ],
   "metadata": {
    "collapsed": false
   }
  },
  {
   "cell_type": "code",
   "execution_count": 5,
   "outputs": [
    {
     "name": "stdout",
     "output_type": "stream",
     "text": [
      "['sdd']\n",
      "['sdd', 'tgtgtg']\n",
      "['sdd', 'jsdbf']\n"
     ]
    }
   ],
   "source": [
    "class Train:\n",
    "    __passengers: list=[]\n",
    "\n",
    "    def _set_values(self,index,  value):\n",
    "        if index >=len(self.__passengers):\n",
    "            self.__passengers.append(value)\n",
    "        else:\n",
    "            try:\n",
    "                self.__passengers[index] = value\n",
    "            except:\n",
    "                raise Exception\n",
    "\n",
    "    def _get_values(self):\n",
    "        print(self.__passengers)\n",
    "\n",
    "tr = Train()\n",
    "tr._set_values(0, 'sdd')\n",
    "tr._get_values()\n",
    "tr._set_values(2, 'tgtgtg')\n",
    "tr._get_values()\n",
    "tr._set_values(1, 'jsdbf')\n",
    "tr._get_values()"
   ],
   "metadata": {
    "collapsed": false
   }
  },
  {
   "cell_type": "markdown",
   "source": [
    "Napisz funkcję, której argumentami są trzy liczby całkowite. Funkcja ma stworzyć obiekt w typie\n",
    "umożliwiającym przechowywanie daty (z modułu datetime). Za pomocą wyjątków zabezpiecz, aby\n",
    "data jest poprawna."
   ],
   "metadata": {
    "collapsed": false
   }
  },
  {
   "cell_type": "code",
   "execution_count": 26,
   "outputs": [
    {
     "name": "stdout",
     "output_type": "stream",
     "text": [
      "2022-11-11\n",
      "bledna data\n"
     ]
    }
   ],
   "source": [
    "import datetime\n",
    "def obj_date(y, m , d):\n",
    "    try:\n",
    "        return datetime.date(y, m, d)\n",
    "    except ValueError:\n",
    "        return 'bledna data'\n",
    "\n",
    "\n",
    "print(obj_date(2022,11,11))\n",
    "print(obj_date(2022,66,11))\n",
    "\n"
   ],
   "metadata": {
    "collapsed": false
   }
  },
  {
   "cell_type": "markdown",
   "source": [
    "Stwórz klasę Book z polami odpowiedzialnymi za imię i nazwisko autora (jedno pole typu str), tytuł\n",
    "(str), wydawnictwo (str), miejsce wydania (typu str), rok wydania (int). Zmienne powinny być\n",
    "prywatne (z dwoma znakami podkreślenia na początku). Dodaj inicjalizator ustawiający z argumentów\n",
    "odpowiednie pola. Dodaj odpowiednie właściwości (setter, getter, deleter). Poza klasą przetestuj\n",
    "działanie. Zadanie wykonaj z wykorzystaniem dekoratorów (zaczynających się od @).\n",
    "W zadaniu dodaj następujące kryteria walidacyjne:\n",
    "• pole autor musi być długości co najmniej 10 i zawierać w środku dokładnie jedną spację.\n",
    "• tytuł - musi być długości co najmniej 20.\n",
    "• wydawnictwo - musi być długości co najmniej 5 i zaczynać się od dużej litery alfabetu łacińskiego.\n",
    "• rok wydania - nie może być przyszły niż rok bieżący oraz minimalny rok to 1980.\n",
    "Zabezpieczenie ma odbyć się poprzez obsługę wyjątków."
   ],
   "metadata": {
    "collapsed": false
   }
  },
  {
   "cell_type": "code",
   "execution_count": 40,
   "outputs": [
    {
     "name": "stdout",
     "output_type": "stream",
     "text": [
      "imie nazwisko tytul wydawnictwo miejsce zam 1995\n",
      "imie nazwisko tytul wydawnictwo miejsce zam 1995\n",
      "None None None None None\n"
     ]
    }
   ],
   "source": [
    "class Book:\n",
    "    __imie_i_nazwisko:str = None\n",
    "    __tytul: str = None\n",
    "    __wydawnictwo: str = None\n",
    "    __miejsce_wydania: str = None\n",
    "    __rok_wydania: int = None\n",
    "\n",
    "    def __init__(self, imie_i_nazwisko,tytul,wydawnictwo,miejsce_wydania,rok_wydania):\n",
    "        self.__imie_i_nazwisko= imie_i_nazwisko\n",
    "        self.__tytul= tytul\n",
    "        self.__wydawnictwo= wydawnictwo\n",
    "        self.__miejsce_wydania= miejsce_wydania\n",
    "        self.__rok_wydania= rok_wydania\n",
    "\n",
    "    @property\n",
    "    def object(self):\n",
    "        return f'{self.__imie_i_nazwisko} {self.__tytul} {self.__wydawnictwo} 'f'{self.__miejsce_wydania} {self.__rok_wydania}'\n",
    "\n",
    "    @object.setter\n",
    "    def object(self, value):\n",
    "        try:\n",
    "            if len(value[0])>9 and value[0].find(' ')==1:\n",
    "                self.__imie_i_nazwisko = value[0]\n",
    "        except ValueError:\n",
    "            print('>10 liter i spacja w srodku')\n",
    "\n",
    "        self.__tytul = value[1]\n",
    "        self.__wydawnictwo = value[2]\n",
    "        self.__miejsce_wydania = value[3]\n",
    "        self.__rok_wydania = value[4]\n",
    "\n",
    "    @object.deleter\n",
    "    def object(self):\n",
    "        del self.__imie_i_nazwisko\n",
    "        del self.__tytul\n",
    "        del self.__wydawnictwo\n",
    "        del self.__miejsce_wydania\n",
    "        del self.__rok_wydania\n",
    "\n",
    "\n",
    "b = Book('imie nazwisko', 'tytul', 'wydawnictwo', 'miejsce zam', 1995)\n",
    "print(b.object)\n",
    "b.object = ['imisko', 'tytul', 'wydawnictwo', 'miejsce zam', 1995]\n",
    "print(b.object)\n",
    "del b.object\n",
    "print(b.object)"
   ],
   "metadata": {
    "collapsed": false
   }
  },
  {
   "cell_type": "code",
   "execution_count": null,
   "outputs": [],
   "source": [],
   "metadata": {
    "collapsed": false
   }
  }
 ],
 "metadata": {
  "kernelspec": {
   "display_name": "Python 3",
   "language": "python",
   "name": "python3"
  },
  "language_info": {
   "codemirror_mode": {
    "name": "ipython",
    "version": 2
   },
   "file_extension": ".py",
   "mimetype": "text/x-python",
   "name": "python",
   "nbconvert_exporter": "python",
   "pygments_lexer": "ipython2",
   "version": "2.7.6"
  }
 },
 "nbformat": 4,
 "nbformat_minor": 0
}

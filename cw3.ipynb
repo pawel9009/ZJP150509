{
 "cells": [
  {
   "cell_type": "markdown",
   "metadata": {
    "collapsed": true,
    "pycharm": {
     "name": "#%% md\n"
    }
   },
   "source": [
    "Stwórz nowy projekt, a w nim wykonaj poniższe operacje:\n",
    "• Stwórz klasę Osoba z polami imie, nazwisko, rok_urodzenia, dodaj domyślny konstruktor i parametryczny, oraz dodaj metodę zwracającą opis obiektu.\n",
    "• Stwórz klasę potomną Student z dodatkowymi polami rok, numer_grupy, numer_albumu, stwórz\n",
    "konstruktury i przesłoń metodę zwracającą opis.\n",
    "• W klasie Osoba dodaj metodę oblicz_wiek bez parametru. Następnie stwórz obiekt z klasy Student i\n",
    "spróbuj na nim wywołać metodę oblicz_wiek.\n",
    "• Stwórz klasę potomną StudentPierwszegoRoku dziedziczoną z klasy Student i Osoba. Czy to możliwe?"
   ]
  },
  {
   "cell_type": "code",
   "execution_count": 5,
   "outputs": [
    {
     "name": "stdout",
     "output_type": "stream",
     "text": [
      "sdsd sdasdasda 2000\n",
      "pawel bfsadasa 1998\n",
      "Wiek = 24\n"
     ]
    }
   ],
   "source": [
    "class Osoba:\n",
    "    def __init__(self, imie='a', nazwisko='b', rok_urodzenia=23):\n",
    "        self.imie = imie\n",
    "        self.nazwisko = nazwisko\n",
    "        self.rok_urodzenia = rok_urodzenia\n",
    "\n",
    "    def __str__(self):\n",
    "        print(self.imie, self.nazwisko, self.rok_urodzenia)\n",
    "\n",
    "    def oblicz_wiek(self):\n",
    "        print(f'Wiek = {2022 - self.rok_urodzenia}')\n",
    "\n",
    "\n",
    "class Student(Osoba):\n",
    "    def __init__(self, imie, nazwisko, rok_urodzenia, rok, nr_gr, nr_alb):\n",
    "        super(Student, self).__init__(imie, nazwisko, rok_urodzenia, )\n",
    "        self.rok = rok\n",
    "        self.numer_grupy = nr_gr\n",
    "        self.numer_albumu = nr_alb\n",
    "\n",
    "    def __str__(self):\n",
    "        super(Student, self).__str__()\n",
    "\n",
    "\n",
    "# class StudentPierwszegoRoku(Osoba,Student):\n",
    "#     pass\n",
    "\n",
    "o = Osoba('sdsd', 'sdasdasda', 2000)\n",
    "o.__str__()\n",
    "\n",
    "s = Student('pawel', 'bfsadasa', 1998, 1, 3, 55)\n",
    "s.__str__()\n",
    "s.oblicz_wiek()\n",
    "\n",
    "# s1r = StudentPierwszegoRoku()\n",
    "# s1r.__str__()"
   ],
   "metadata": {
    "collapsed": false,
    "pycharm": {
     "name": "#%%\n"
    }
   }
  },
  {
   "cell_type": "markdown",
   "source": [
    "Zdefiniuj dwie klasy:\n",
    "Klasa Pupil zawierająca:\n",
    "• konstruktor z dwoma parametrami imie i nazwisko; konstruktor powinien także definiować atrybut\n",
    "marks - słownik przechowujący oceny (kluczem nazwa przedmiotu a wartością ocena - liczba rzeczywiste\n",
    "ze zbioru {1, 1.5, 2, 2.5, 3, 3.5, 4, 4.5, 5, 5.5, 6});\n",
    "• complete_marks - dodaje przedmioty oraz oceny do słownika i kontroluje ich poprawność (słownik\n",
    "uzupełnia użytkownik);\n",
    "• print_marks - wyświetla przedmioty i oceny;\n",
    "• metoda mean - zwraca średnią z ocen,\n",
    "• __str__ - zwraca napis składający się z imienia i nazwiska oraz średniej ocen.\n",
    "Klasa Student dziedzicząca z klasy Pupil:\n",
    "• zawiera konstruktor z parametrami wywołujący konstruktor klasy nadrzędnej z dodatkowym atrybutem\n",
    "weights - słownik z takimi samymi kluczami jak marks i wartościami oznaczającymi wagi (liczby\n",
    "rzeczywiste z przedziału (0, 1])\n",
    "• complete_weights - przypisuje wagę dla każdego przedmiotu i kontroluje jej poprawność (słownik\n",
    "uzupełnia użytkownik);\n",
    "• zawiera przesłoniętą metodę mean, która ma liczyć średnią ważoną.\n",
    "• zawiera metodę __str__ - zwraca napis składający się z imienia i nazwiska oraz średniej ocen -\n",
    "wykorzystaj metodę klasy bazowej.\n",
    "Następnie utwórz jeden obiekt klasy Pupil i jeden klasy Student z takimi samymi ocenami i sprawdź, jak są\n",
    "liczone ich średnie"
   ],
   "metadata": {
    "collapsed": false,
    "pycharm": {
     "name": "#%% md\n"
    }
   }
  },
  {
   "cell_type": "code",
   "execution_count": 19,
   "outputs": [
    {
     "name": "stdout",
     "output_type": "stream",
     "text": [
      "pawel sdsad, ocena - 3.7\n",
      "\n",
      "przedmiot polski, ocena 4.5, waga 0.2\n",
      "przedmiot angielski, ocena 3, waga 0.2\n",
      "przedmiot hisoria, ocena 4, waga 0.2\n",
      "przedmiot wf, ocena 5, waga 0.2\n",
      "przedmiot biologia, ocena 2, waga 0.2\n",
      "pawdfsdfel sdfsdfsdfdsfsd, ocena - 0.7\n"
     ]
    }
   ],
   "source": [
    "class Pupil:\n",
    "    def __init__(self, imie, nazwisko):\n",
    "        self.imie = imie\n",
    "        self.nazwisko = nazwisko\n",
    "        self.marks = {'polski': 4.5, 'angielski': 3, 'hisoria': 4, 'wf': 5, 'biologia': 2}\n",
    "\n",
    "    def complete_marks(self, sub, mark):\n",
    "        if 1 <= mark <= 6:\n",
    "            self.marks[sub] = mark\n",
    "\n",
    "    def print_marks(self):\n",
    "        for k,v in self.marks.items():\n",
    "            print(f'{k} - {v}')\n",
    "\n",
    "    def mean(self):\n",
    "        suma = 0\n",
    "        for x in self.marks.values():\n",
    "            suma+=x\n",
    "        return round(suma/len(self.marks),1)\n",
    "\n",
    "    def __str__(self):\n",
    "        return f'{self.imie} {self.nazwisko}, ocena - {self.mean()}'\n",
    "\n",
    "\n",
    "\n",
    "\n",
    "class Student(Pupil):\n",
    "    def __init__(self, imie, nazwisko):\n",
    "        super().__init__(imie, nazwisko)\n",
    "        self.weight = self.marks.copy()\n",
    "\n",
    "    def complete_weights(self):\n",
    "        for k,v in self.weight.items():\n",
    "            while True:\n",
    "                inp = float(input(f'podaj wage dla {k} zakres 0-1'))\n",
    "                if 0.0 <= inp <= 1.0:\n",
    "                    self.weight[k] = inp\n",
    "                    break\n",
    "    def mean(self):\n",
    "        suma = 0\n",
    "        for k,v in self.marks.items():\n",
    "            print(f'przedmiot {k}, ocena {v}, waga {self.weight[k]}')\n",
    "            suma+=v*self.weight[k]\n",
    "        return round(suma/len(self.marks),1)\n",
    "\n",
    "    def __str__(self):\n",
    "        return super(Student, self).__str__()\n",
    "\n",
    "\n",
    "\n",
    "\n",
    "\n",
    "p = Pupil('pawel', 'sdsad')\n",
    "print(p.__str__())\n",
    "\n",
    "print()\n",
    "p2 = Student('pawdfsdfel', 'sdfsdfsdfdsfsd')\n",
    "p2.complete_weights()\n",
    "print(p2.__str__())"
   ],
   "metadata": {
    "collapsed": false,
    "pycharm": {
     "name": "#%%\n"
    }
   }
  },
  {
   "cell_type": "code",
   "execution_count": 30,
   "outputs": [
    {
     "name": "stdout",
     "output_type": "stream",
     "text": [
      "23 stopni w skali Celsjusza\n",
      "Temperatura 23\n"
     ]
    }
   ],
   "source": [
    "from abc import ABC,abstractmethod\n",
    "class Temperatura:\n",
    "    def __init__(self, temp):\n",
    "        self.temp = temp\n",
    "\n",
    "    def __str__(self):\n",
    "        return f'{self.temp} stopni w skali Celsjusza'\n",
    "\n",
    "    def __repr__(self):\n",
    "        return f'{self.__class__.__name__} {self.temp}'\n",
    "\n",
    "    def above_freezing(self):\n",
    "        if self.temp > 0:\n",
    "            return True\n",
    "        return False\n",
    "\n",
    "    @abstractmethod\n",
    "    def convert_to_Farenheit(self):\n",
    "        return 1\n",
    "\n",
    "\n",
    "# class Fahrenheit(Temperatura):\n",
    "#     def convert_to_Farenheit(self):\n",
    "#         pass\n",
    "\n",
    "\n",
    "t = Temperatura(23)\n",
    "print(t.__str__())\n",
    "print(t.__repr__())"
   ],
   "metadata": {
    "collapsed": false,
    "pycharm": {
     "name": "#%%\n"
    }
   }
  }
 ],
 "metadata": {
  "kernelspec": {
   "display_name": "Python 3",
   "language": "python",
   "name": "python3"
  },
  "language_info": {
   "codemirror_mode": {
    "name": "ipython",
    "version": 2
   },
   "file_extension": ".py",
   "mimetype": "text/x-python",
   "name": "python",
   "nbconvert_exporter": "python",
   "pygments_lexer": "ipython2",
   "version": "2.7.6"
  }
 },
 "nbformat": 4,
 "nbformat_minor": 0
}
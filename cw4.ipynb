{
 "cells": [
  {
   "cell_type": "markdown",
   "source": [
    "Stwórz nowy projekt, a w nim wykonaj poniższe operacje:\n",
    "• Stwórz klasę Book z polami odpowiedzialnymi za imię i nazwisko autora (jedno pole typu str), tytuł\n",
    "(str), wydawnictwo (str), miejsce wydania (typu str), rok wydania (int).\n",
    "• zaimplementuj wybraną “metodę magiczną” i sprawdź różne kryteria sortowania dla listy obiektów\n",
    "typu Book\n",
    "• uzupełnił klasę o mechanizm płytkiej i głębokiej kopii a następnie przetestuj poprawność (lub nie)\n",
    "działania kopiowania"
   ],
   "metadata": {
    "collapsed": false
   }
  },
  {
   "cell_type": "code",
   "execution_count": 15,
   "outputs": [
    {
     "name": "stdout",
     "output_type": "stream",
     "text": [
      "2004\n",
      "2012\n",
      "2019\n",
      "piotr kowalski encyklopedia\n",
      "mariusz sliwka wos\n",
      "adam nowak historia\n",
      "adam nowak historia nowaera olsztyn 34\n",
      "adam nowak historia nowaera olsztyn 2012\n",
      "adam nowak historia nowaera olsztyn 324\n"
     ]
    }
   ],
   "source": [
    "import copy\n",
    "\n",
    "\n",
    "class Book:\n",
    "    def __init__(self, autor, tytul, wyd, m_wyd, rok):\n",
    "        self.autor: str = autor\n",
    "        self.tytul: str = tytul\n",
    "        self.wydawnictwo: str = wyd\n",
    "        self.miejsce_wydania: str = m_wyd\n",
    "        self.rok_wydania: int = rok\n",
    "\n",
    "    def __str__(self):\n",
    "        print(self.autor, self.tytul, self.wydawnictwo, self.miejsce_wydania, self.rok_wydania)\n",
    "\n",
    "\n",
    "b1 = Book('adam nowak', 'historia', 'nowaera', 'olsztyn', 2012)\n",
    "b2 = Book('mariusz sliwka', 'wos', 'helion', 'warszawa', 2004)\n",
    "b3 = Book('piotr kowalski', 'encyklopedia', 'wydpol', 'krakow', 2019)\n",
    "\n",
    "books = [b1, b2, b3]\n",
    "books.sort(key=lambda x: x.rok_wydania)\n",
    "for x in books:\n",
    "    print(x.rok_wydania)\n",
    "\n",
    "books.sort(key=lambda x: (x.autor, x.tytul), reverse=True)\n",
    "for x in books:\n",
    "    print(x.autor, x.tytul)\n",
    "\n",
    "kopia = copy.copy(b1)\n",
    "deep_kopia = copy.deepcopy(b1)\n",
    "kopia.rok_wydania = 34\n",
    "deep_kopia.rok_wydania = 324\n",
    "kopia.__str__()\n",
    "b1.__str__()\n",
    "deep_kopia.__str__()\n"
   ],
   "metadata": {
    "collapsed": false
   }
  },
  {
   "cell_type": "markdown",
   "source": [
    "Zmodyfikuj klasę Book w taki sposób, że dane autora są typu powstałego z samodzielnie napisanej\n",
    "klasy Author przechowującej imię i nazwisko w oddzielnych polach. Sprawdź jak to się przełoży na\n",
    "kopiowanie i sortowanie"
   ],
   "metadata": {
    "collapsed": false
   }
  },
  {
   "cell_type": "code",
   "execution_count": 26,
   "outputs": [
    {
     "name": "stdout",
     "output_type": "stream",
     "text": [
      "jerzy babel\n",
      "kamil sosna\n",
      "krystian maliniak\n",
      "ccccccc historia nowaera olsztyn 2012\n",
      "kamil sosna historia nowaera olsztyn 2012\n",
      "kamil sosna historia nowaera olsztyn 2012\n",
      "oryginal 2269688998592\n",
      "kopia 2269689349456\n",
      "deep kopia 2269670879488\n"
     ]
    }
   ],
   "source": [
    "import copy\n",
    "\n",
    "\n",
    "class Autor:\n",
    "    def __init__(self, imie, nazwisko):\n",
    "        self.imie = imie\n",
    "        self.nazwisko = nazwisko\n",
    "\n",
    "\n",
    "class Book:\n",
    "    def __init__(self, autor, tytul, wyd, m_wyd, rok):\n",
    "        self.autor: str = autor.imie + ' ' + autor.nazwisko\n",
    "        self.tytul: str = tytul\n",
    "        self.wydawnictwo: str = wyd\n",
    "        self.miejsce_wydania: str = m_wyd\n",
    "        self.rok_wydania: int = rok\n",
    "\n",
    "    def __str__(self):\n",
    "        print(self.autor, self.tytul, self.wydawnictwo, self.miejsce_wydania, self.rok_wydania)\n",
    "\n",
    "\n",
    "autor1 = Autor('krystian', 'maliniak')\n",
    "autor2 = Autor('jerzy', 'babel')\n",
    "autor3 = Autor('kamil', 'sosna')\n",
    "\n",
    "b1 = Book(autor3, 'historia', 'nowaera', 'olsztyn', 2012)\n",
    "b2 = Book(autor2, 'wos', 'helion', 'warszawa', 2004)\n",
    "b3 = Book(autor1, 'encyklopedia', 'wydpol', 'krakow', 2019)\n",
    "\n",
    "books = [b1, b2, b3]\n",
    "books.sort(key=lambda x: x.autor)\n",
    "for x in books:\n",
    "    print(x.autor)\n",
    "\n",
    "kopia = copy.copy(b1)\n",
    "deep_kopia = copy.deepcopy(b1)\n",
    "kopia.autor = 'ccccccc'\n",
    "kopia.__str__()\n",
    "b1.__str__()\n",
    "deep_kopia.__str__()\n",
    "print('oryginal',id(b1))\n",
    "print('kopia',id(kopia))\n",
    "\n",
    "print('deep kopia',id(deep_kopia))\n"
   ],
   "metadata": {
    "collapsed": false
   }
  },
  {
   "cell_type": "markdown",
   "source": [
    "Rozszerz projekt z polecenia 2 o następujące elementy:\n",
    "• stwórz klasę City zawierające pole name przechowującą nazwy miejscowości\n",
    "• w klasie Book zmień typ pola miejsca wydania na City - jak to wpłynie na kopiowanie i sortowanie?\n",
    "Przetestuj to.\n",
    "• rozszerz klasę Author o pole typu City przechowujące miejsce urodzenia autora. Przetestuj wpływ na\n",
    "sortowanie i kopiowanie."
   ],
   "metadata": {
    "collapsed": false
   }
  },
  {
   "cell_type": "code",
   "execution_count": null,
   "outputs": [],
   "source": [],
   "metadata": {
    "collapsed": false
   }
  }
 ],
 "metadata": {
  "kernelspec": {
   "display_name": "Python 3",
   "language": "python",
   "name": "python3"
  },
  "language_info": {
   "codemirror_mode": {
    "name": "ipython",
    "version": 2
   },
   "file_extension": ".py",
   "mimetype": "text/x-python",
   "name": "python",
   "nbconvert_exporter": "python",
   "pygments_lexer": "ipython2",
   "version": "2.7.6"
  }
 },
 "nbformat": 4,
 "nbformat_minor": 0
}

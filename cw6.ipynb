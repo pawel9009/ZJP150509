{
 "cells": [
  {
   "cell_type": "markdown",
   "source": [
    "Stwórz klasę Book z polami odpowiedzialnymi za imię i nazwisko autora (jedno pole typu str), tytuł\n",
    "(str), wydawnictwo (str), miejsce wydania (typu str), rok wydania (int). Zmienne powinny być\n",
    "prywatne (z dwoma znakami podkreślenia na początku). Dodaj odpowiednie właściwości (setter,\n",
    "getter, deleter). Poza klasą przetestuj działanie. Zadanie wykonaj z wykorzystaniem dekoratorów\n",
    "(zaczynających się od @)."
   ],
   "metadata": {
    "collapsed": false
   }
  },
  {
   "cell_type": "code",
   "execution_count": 15,
   "outputs": [
    {
     "name": "stdout",
     "output_type": "stream",
     "text": [
      "None None None None None\n",
      "imie nazwisko tytul wydawnictwo miejsce zam 1995\n",
      "None None None None None\n"
     ]
    }
   ],
   "source": [
    "class Book:\n",
    "    __imie_naz: str = None\n",
    "    __tytul: str = None\n",
    "    __wydawnictwo: str = None\n",
    "    __miejsce_wydania: str = None\n",
    "    __rok_wydania: int = None\n",
    "\n",
    "    @property\n",
    "    def object(self):\n",
    "        return f'{self.__imie_naz} {self.__tytul} {self.__wydawnictwo} 'f'{self.__miejsce_wydania} {self.__rok_wydania}'\n",
    "\n",
    "    @object.setter\n",
    "    def object(self, value):\n",
    "        self.__imie_naz = value[0]\n",
    "        self.__tytul = value[1]\n",
    "        self.__wydawnictwo = value[2]\n",
    "        self.__miejsce_wydania = value[3]\n",
    "        self.__rok_wydania = value[4]\n",
    "\n",
    "    @object.deleter\n",
    "    def object(self):\n",
    "        del self.__imie_naz\n",
    "        del self.__tytul\n",
    "        del self.__wydawnictwo\n",
    "        del self.__miejsce_wydania\n",
    "        del self.__rok_wydania\n",
    "\n",
    "\n",
    "b = Book()\n",
    "print(b.object)\n",
    "b.object = ['imie nazwisko', 'tytul', 'wydawnictwo', 'miejsce zam', 1995]\n",
    "print(b.object)\n",
    "del b.object\n",
    "print(b.object)"
   ],
   "metadata": {
    "collapsed": false
   }
  },
  {
   "cell_type": "markdown",
   "source": [
    "Wykonaj czynności z wykorzystaniem właściwości na zasadzie property(fget,fset):\n",
    "Stwórz klasę Osoba z prywatnymi polami: imie, nazwisko, wiek, konstruktorem inicjującym wszystkie\n",
    "zmienne.\n",
    "• Stwórz klasę Książka z polami: tytul, autor (typu Osoba), data wydania\n",
    "• w obu klasach dodaj metodę magiczną zwracającą napis z reprezentacją obiektu\n",
    "• Stwórz klasę Czytelnik, dziedziczącą z klasy Osoba. Dodatkowo klasa Czytelnik powinna posiadać pole\n",
    "– listę obiektów typu Książka - listę książek przeczytanych przez danego czytelnika.\n",
    "• w klasie Czytelnik dodaj metodę magiczną __eq__ i zaimplementuj ją tak, aby dwa obiekty były równe,\n",
    "jeśli tylko tytuły książek przeczytanych przez osu “czytelników” są takie same (kolejność nie jest istotna)"
   ],
   "metadata": {
    "collapsed": false
   }
  },
  {
   "cell_type": "code",
   "execution_count": 17,
   "outputs": [],
   "source": [
    "class Osoba:\n",
    "    def __init__(self):\n",
    "        self.__imie: str = None\n",
    "        self.__nazwisko: str = None\n",
    "        self.__wiek: int = None\n",
    "\n",
    "    def _set_values(self, value):\n",
    "        self.__imie = value[0]\n",
    "        self.__nazwisko = value[1]\n",
    "        self.__wiek = value[2]\n",
    "\n",
    "    def _get_values(self):\n",
    "        return f'{self.__imie} {self.__nazwisko} {self.__wiek}'\n",
    "\n",
    "    osoba = property(\n",
    "        fget=_get_values,\n",
    "        fset=_set_values,\n",
    "    )\n",
    "\n",
    "\n",
    "class Book:\n",
    "    __tytul: str = None\n",
    "    __autor: Osoba = None\n",
    "    __data__wydania: int = None\n",
    "\n",
    "    def _set_values(self, value):\n",
    "        self.__tytul = value[0]\n",
    "        self.__autor = value[1]\n",
    "        self.__data__wydania = value[2]\n",
    "\n",
    "    def _get_values(self):\n",
    "        return f'{self.__tytul} {self.__autor} {self.__data__wydania}'\n",
    "\n",
    "    osoba = property(\n",
    "        fget=_get_values,\n",
    "        fset=_set_values,\n",
    "    )\n",
    "\n",
    "\n",
    "class Czytelnik(Osoba):\n",
    "    def __init__(self, ):\n",
    "        super(Czytelnik, self).__init__()\n",
    "        self.ksiazki = []\n",
    "\n",
    "    def __eq__(self, other):\n",
    "        return ((self.last, self.first) == (other.last, other.first))#dokonczyc\n",
    "    \n",
    "\n",
    "    def __str__(self):\n",
    "        return f'{self.__imie} {self.__nazwisko} {self.__wiek}'"
   ],
   "metadata": {
    "collapsed": false
   }
  }
 ],
 "metadata": {
  "kernelspec": {
   "display_name": "Python 3",
   "language": "python",
   "name": "python3"
  },
  "language_info": {
   "codemirror_mode": {
    "name": "ipython",
    "version": 2
   },
   "file_extension": ".py",
   "mimetype": "text/x-python",
   "name": "python",
   "nbconvert_exporter": "python",
   "pygments_lexer": "ipython2",
   "version": "2.7.6"
  }
 },
 "nbformat": 4,
 "nbformat_minor": 0
}

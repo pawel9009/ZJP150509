{
 "cells": [
  {
   "cell_type": "markdown",
   "source": [
    "Kolokwium nr 1 - Zestaw 3"
   ],
   "metadata": {
    "collapsed": false
   }
  },
  {
   "cell_type": "markdown",
   "source": [
    "1-3: Każdy obiekt należy stworzyć co najmniej jeden raz i każdą metodę/funkcję należy wywołać co\n",
    "najmniej jeden raz (o ile nie napisano inaczej). (8pkt)\n",
    "1. (12pkt) Stwórz klasę Course a w niej następujące składniki:\n",
    "• dodaj zmienne instancyjne: destination (str), distance (int), passengers (lista napisów), date\n",
    "(dowolny typ z modułu datetime umożliwiający przechowywanie daty).\n",
    "• w inicjatorze nadaj wartości zmiennym z podanych odpowiednio argumentów\n",
    "• upewnij się, że data przekazana jako argument w inicjatorze jest “przyszła”; w sytuacji gdy jest przeszła\n",
    "lub dzień bieżący - należy ustawić datę na dzień jutrzejszy od dnia bieżącego\n",
    "• dodaj odpowiednią metodę magiczną zwracają napis z reprezentacją obiektu\n",
    "• dodaj odpowiednią metodę magiczną umożliwiają sortowanie obiektów typu Course wg klucza: najpierw\n",
    "sortowanie odbywa się wg daty - od najwcześniejszej do najpóźniejszej, przy równości sortowanie odbywa\n",
    "się wg kierunku - zgodnie z porządkiem leksykograficznym dla napisów.\n",
    "• dodaj odpowiednią metodę magiczną odpowiadającą za sprawdzanie równości obiektów tak, aby obiekty\n",
    "były równe, gdy jedynie zmienne destination i date (w zakresie dnia) są takie same."
   ],
   "metadata": {
    "collapsed": false
   }
  },
  {
   "cell_type": "code",
   "execution_count": 102,
   "outputs": [
    {
     "name": "stdout",
     "output_type": "stream",
     "text": [
      "a 115 ['64', '455'] 2022-12-03\n",
      "b 434 ['34', '4fdg55'] 2022-12-06\n",
      "True\n",
      "False\n"
     ]
    }
   ],
   "source": [
    "from datetime import datetime, timedelta\n",
    "\n",
    "\n",
    "class Course:\n",
    "    destination: str\n",
    "    distance: int\n",
    "    passengers: list\n",
    "    date: datetime.date\n",
    "\n",
    "    def __init__(self, destination, distance, passengers, date_in):\n",
    "        self.destination = destination\n",
    "        self.distance = distance\n",
    "        self.passengers = passengers\n",
    "\n",
    "        format = \"%Y-%m-%d\"\n",
    "        date_tmp = datetime.strptime(date_in, format)\n",
    "        now = datetime.now()\n",
    "        if date_tmp <= now:\n",
    "            self.date = datetime.date(now) - timedelta(days=-1)\n",
    "            self.date = str(self.date)\n",
    "        else:\n",
    "            self.date = date_in\n",
    "\n",
    "    def __str__(self):\n",
    "        return f'{self.destination} {self.distance} {self.passengers} {self.date}'\n",
    "\n",
    "    def __le__(self, other):\n",
    "        return ((self.date, self.distance) <= (other.date, other.distance))\n",
    "\n",
    "    def __eq__(self, other):\n",
    "        return ((self.destination, self.date) == (\n",
    "            other.destination, other.date))\n",
    "\n",
    "\n",
    "C1 = Course('a', 115, ['64', '455'], '2022-12-01')\n",
    "C2 = Course('b', 434, ['34', '4fdg55'], '2022-12-06')\n",
    "print(C1.__str__())\n",
    "print(C2.__str__())\n",
    "\n",
    "print(C1.__le__(C2))\n",
    "print(C1.__eq__(C2))\n"
   ],
   "metadata": {
    "collapsed": false
   }
  },
  {
   "cell_type": "markdown",
   "source": [
    "2. (6pkt) Stwórz klasę Vehicle dziedziczącą po Course ze składowymi:\n",
    "• dodaj zmienne instancyjne vehicleBrand (str) oraz capacity (int)\n",
    "• rozszerz __init__ by ustawiał dodatkowe dwa pola z argumentów\n",
    "• upewnij się, że pojemność ustawiana w inicjalizatorze jest liczbą dodatnią; jeśli argument jest niedodatni,\n",
    "to ustaw zmienną capacity jako 10.\n",
    "• dodaj odpowiednią metodę magiczną zwracają napis z reprezentacją obiektu z uwzględnieniem zmiennych\n",
    "z klasy pochodnej\n",
    "• rozszerz metodę odpowiedzialną za sortowanie tak, aby sortowanie odbywało się wg zasady dziedziczonych\n",
    "z klasy bazowej - ale dodatkowo przy równości sortowanie powinno się odbywać wg zmiennej capacity\n",
    "od największej do najmniejszej wartości."
   ],
   "metadata": {
    "collapsed": false
   }
  },
  {
   "cell_type": "code",
   "execution_count": 103,
   "outputs": [],
   "source": [
    "class Vehicle(Course):\n",
    "    vehicleBrand: str\n",
    "    capasity: int\n",
    "\n",
    "    def __init__(self, destination, distance, passengers, date_in, vehicle,\n",
    "                 capasity):\n",
    "        super(Vehicle, self).__init__(destination, distance, passengers,\n",
    "                                      date_in)\n",
    "        self.vehicleBrand = vehicle\n",
    "        if capasity > 0:\n",
    "            self.capasity = capasity\n",
    "        else:\n",
    "            self.capasity = 10\n",
    "\n",
    "    def __str__(self):\n",
    "        return super(Vehicle,\n",
    "                     self).__str__() + f' {self.vehicleBrand} {self.capasity}'\n",
    "\n",
    "    def __le__(self, other):\n",
    "        return super(Vehicle, self).__le__(other)\n"
   ],
   "metadata": {
    "collapsed": false
   }
  },
  {
   "cell_type": "markdown",
   "source": [
    "3. (8pkt) Stwórz listę, w której będą po 3 obiekty typu Course oraz Vehicle. Następnie posortuj listę.\n",
    "Upewnij się, że “printując” listę wyświetlana jest reprezentacja obiektu pochodząca z odpowiedniej\n",
    "metody magicznej zdefiniowanej bezpośrednio we właściwej klasie."
   ],
   "metadata": {
    "collapsed": false
   }
  },
  {
   "cell_type": "code",
   "execution_count": 104,
   "outputs": [
    {
     "name": "stdout",
     "output_type": "stream",
     "text": [
      "r 653 ['fgn', '455'] 2022-12-09 mark2 10\n",
      "b 445 ['fdfg', '455'] 2022-12-05\n",
      "a 225 ['vdg', '455'] 2022-12-03\n",
      "a 115 ['dfgdg', '455'] 2022-12-08\n",
      "a 96 ['fgn', '455'] 2022-12-03 mark3 88\n",
      "v 66 ['bnv', '455'] 2022-12-06 mark1 421\n"
     ]
    }
   ],
   "source": [
    "c1 = Course('a', 225, ['vdg', '455'], '2022-12-01')\n",
    "c2 = Course('b', 445, ['fdfg', '455'], '2022-12-05')\n",
    "c3 = Course('a', 115, ['dfgdg', '455'], '2022-12-08')\n",
    "\n",
    "v1 = Vehicle('v', 66, ['bnv', '455'], '2022-12-06', 'mark1', 421)\n",
    "v2 = Vehicle('r', 653, ['fgn', '455'], '2022-12-09', 'mark2', -4)\n",
    "v3 = Vehicle('a', 96, ['fgn', '455'], '2022-12-01', 'mark3', 88)\n",
    "\n",
    "lista = [c1, c2, c3, v1, v2, v3]\n",
    "\n",
    "lista.sort(key=lambda x: x.distance, reverse=True)\n",
    "\n",
    "for obj in lista:\n",
    "    print(obj.__str__())"
   ],
   "metadata": {
    "collapsed": false
   }
  },
  {
   "cell_type": "markdown",
   "source": [
    "4. (10pkt) Stwórz klasę Smartphone z następującymi składowymi:\n",
    "• klasa posiada zmienną instancyjną record będą słownikiem, gdzie przechowywane są dane o smartfonie.\n",
    "• inicjalizator powinien posiadać dwa argumenty ustawiający w polu record dwa elementy: jako klucz\n",
    "brand z pierwszego argumentu, jako klucz model z drugiego argumentu.\n",
    "• dodaj do klasy __getitem__ oraz __setitem__ w taki sposób, aby dokonywały odpowiednich operacji\n",
    "na zmiennej record w tej klasie. Upewnij się dodatkowo, że wszystkie klucze składają się tylko z małych\n",
    "liter alfabetu łacińskiego.\n",
    "1\n",
    "• przesłoń metodę __str__ tak by zwracała odpowiedni napis opisujący wszystkie informacje przechowywane\n",
    "w polu record\n",
    "• stwórz jeden obiekt i przetestuj działanie metod (każdą co najmniej jeden raz)"
   ],
   "metadata": {
    "collapsed": false
   }
  },
  {
   "cell_type": "code",
   "execution_count": 107,
   "outputs": [
    {
     "name": "stdout",
     "output_type": "stream",
     "text": [
      "blad, duze litery \n",
      "brand\n",
      "{'brand': 'brand', 'model': 'model', 'brand2': 'model2'}\n"
     ]
    }
   ],
   "source": [
    "class Smartphone:\n",
    "    record: dict\n",
    "\n",
    "    def __init__(self, brand, model):\n",
    "        self.record = {'brand': brand, 'model': model}\n",
    "\n",
    "    def __setitem__(self, brand, model):\n",
    "        if brand == brand.lower():\n",
    "            self.record[brand] = model\n",
    "        else:\n",
    "            print('blad, duze litery ')\n",
    "\n",
    "    def __getitem__(self, brand):\n",
    "        return self.record[brand]\n",
    "\n",
    "    def __str__(self):\n",
    "        return f\"{self.record}\"\n",
    "\n",
    "\n",
    "s = Smartphone('brand', 'model')\n",
    "s.__setitem__('brand2', 'model2')\n",
    "s.__setitem__('BBrand2', 'model2')\n",
    "print(s.__getitem__('brand'))\n",
    "print(s.__str__())"
   ],
   "metadata": {
    "collapsed": false
   }
  },
  {
   "cell_type": "markdown",
   "source": [
    "5. (6pkt) Stwórz klasę Test ze zmienną klasową count (int) z domyślną wartością zero. Zaimplementuj\n",
    "metodę klasową change z jednym argumentem value (int). Metoda ma powiększyć zmienną count o\n",
    "value. Przetestuj poza klasą działanie metody change."
   ],
   "metadata": {
    "collapsed": false
   }
  },
  {
   "cell_type": "code",
   "execution_count": 106,
   "outputs": [
    {
     "name": "stdout",
     "output_type": "stream",
     "text": [
      "0\n",
      "2\n",
      "6\n",
      "16\n"
     ]
    }
   ],
   "source": [
    "class Test:\n",
    "    count: int = 0\n",
    "\n",
    "    @classmethod\n",
    "    def change(cls, value: int):\n",
    "        cls.count += value\n",
    "        print(cls.count)\n",
    "\n",
    "\n",
    "t = Test\n",
    "print(t.count)\n",
    "Test.change(2)\n",
    "Test.change(4)\n",
    "Test.change(10)"
   ],
   "metadata": {
    "collapsed": false
   }
  },
  {
   "cell_type": "markdown",
   "source": [],
   "metadata": {
    "collapsed": false
   }
  }
 ],
 "metadata": {
  "kernelspec": {
   "display_name": "Python 3",
   "language": "python",
   "name": "python3"
  },
  "language_info": {
   "codemirror_mode": {
    "name": "ipython",
    "version": 2
   },
   "file_extension": ".py",
   "mimetype": "text/x-python",
   "name": "python",
   "nbconvert_exporter": "python",
   "pygments_lexer": "ipython2",
   "version": "2.7.6"
  }
 },
 "nbformat": 4,
 "nbformat_minor": 0
}

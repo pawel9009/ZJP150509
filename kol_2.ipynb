{
 "cells": [
  {
   "cell_type": "markdown",
   "source": [
    "Napisz klasę Product. Klasa powinna posiadać prywatne atrybuty instancyjne:\n",
    "1. name typu str (pol. nazwa)\n",
    "2. quality typu int (pol. jakość)\n",
    "3. price typu float (pol. cena)\n",
    "Zaimplementuj inicjalizator z trzema argumentami (zachowaj kolejność i nazwy jak wcześniej). Zadbaj\n",
    "również o to aby inicjalizator w razie podania napisów krótszych niż dwa znaki, ustawiał domyślnie None lub\n",
    "pusty napis. Ponadto niezależnie należy sprawdzić, aby cena i jakość była dodatnia (w innym przypadku\n",
    "ustawić na 2).\n",
    "Dodaj do klasy właściwości - (getter i setter). Jeśli dla setterów podane wartości argumentów nie spełniają\n",
    "założeń - wyrzuć wyjątek z odpowiednim komunikatem.\n",
    "Zaimplementuj klasę Telephone dziedziczącą po klasie Product. Klasa ta powinna posiadać atrybuty\n",
    "instancyjne prywatne:\n",
    "1. number (pol. numer telefonu), typu str\n",
    "2. diagonal_screen typu float (przekątna ekranu)\n",
    "Rozszerz w tej klasie inicjalizator. Niezależnie sprawdź aby numer telefonu był w formacie \"(XXX)XXX-XXX\"\n",
    "gdzie X to cyfry. Przekątna ekranu musi być liczbą z przedziału [5, 9].\n",
    "Zaimplementuj właściwości (setter i getter) dla każdego atrybutu. Jeśli dla setterów podane wartości\n",
    "argumentów nie spełniają założeń, wyrzuć wyjątek z odpowiednim komunikatem.\n",
    "Poza wspomianymi wyżej klasami stwórz co najmniej 3 obiekty i przechwyć ew. wyjątki."
   ],
   "metadata": {
    "collapsed": false
   }
  },
  {
   "cell_type": "code",
   "execution_count": 1,
   "outputs": [],
   "source": [
    "class Product:\n",
    "    __name: str\n",
    "    __quality: int\n",
    "    __price: float\n",
    "\n",
    "    def __init__(self, name, quality, price):\n",
    "        if len(name) < 2:\n",
    "            self.__name = ''\n",
    "        else:\n",
    "            self.__name = name\n",
    "\n",
    "        if quality < 0:\n",
    "            self.__quality = 2\n",
    "        else:\n",
    "            self.__quality = quality\n",
    "\n",
    "        if price < 0:\n",
    "            self.__price = 2.0\n",
    "        else:\n",
    "            self.__price = price\n",
    "\n",
    "    @property\n",
    "    def name(self):\n",
    "        return self.__name\n",
    "\n",
    "    @name.setter\n",
    "    def name(self, val):\n",
    "        if len(val) < 2:\n",
    "            raise ValueError('Zbyt ktotka nazwa')\n",
    "        self.__name = val\n",
    "\n",
    "    @property\n",
    "    def quality(self):\n",
    "        return self.__quality\n",
    "\n",
    "    @quality.setter\n",
    "    def quality(self, val):\n",
    "        if val < 0:\n",
    "            raise ValueError('wartość musi być wieksza od 0')\n",
    "        self.__quality = val\n",
    "\n",
    "    @property\n",
    "    def price(self):\n",
    "        return self.__price\n",
    "\n",
    "    @price.setter\n",
    "    def price(self, val):\n",
    "        if val < 0:\n",
    "            raise ValueError('wartość musi być wieksza od 0')\n",
    "        self.__price = val\n"
   ],
   "metadata": {
    "collapsed": false
   }
  },
  {
   "cell_type": "code",
   "execution_count": 73,
   "outputs": [],
   "source": [
    "\n",
    "class Telephone(Product):\n",
    "    __number: str\n",
    "    __diagonal_screen: float\n",
    "\n",
    "    def __init__(self, name, quality, price, number, diagonal_screen):\n",
    "        super(Telephone, self).__init__(name, quality, price)\n",
    "        self.__number = number\n",
    "        if number[0] == '(' and number[4] == ')' and number[8] == '-':\n",
    "            try:\n",
    "                int(number[1:4])\n",
    "                int(number[5:8])\n",
    "                int(number[9:12])\n",
    "                self.__number = number\n",
    "            except Exception:\n",
    "                raise ValueError('blędne dane w numerze')\n",
    "        else:\n",
    "            raise ValueError('blędne dane w numerze')\n",
    "\n",
    "        if 5 <= diagonal_screen <= 9:\n",
    "            self.__diagonal_screen = diagonal_screen\n",
    "        else:\n",
    "            raise ValueError('wartość musi być z przedziału 5-9')\n",
    "\n",
    "    @property\n",
    "    def number(self):\n",
    "        return self.__number\n",
    "\n",
    "    @number.setter\n",
    "    def number(self, val):\n",
    "        self.__number = val\n",
    "\n",
    "    @property\n",
    "    def diagonal_screen(self):\n",
    "        return self.__diagonal_screen\n",
    "\n",
    "    @diagonal_screen.setter\n",
    "    def diagonal_screen(self, val):\n",
    "        if 5 <= val <= 9:\n",
    "            raise ValueError('wartość musi być z przedziału 5-9')\n",
    "        self.__diagonal_screen = val"
   ],
   "metadata": {
    "collapsed": false
   }
  },
  {
   "cell_type": "code",
   "execution_count": 74,
   "outputs": [],
   "source": [
    "tel1 = Telephone('name1', 2, 453.2, '(531)543-333', 7)"
   ],
   "metadata": {
    "collapsed": false
   }
  },
  {
   "cell_type": "code",
   "execution_count": 75,
   "outputs": [
    {
     "ename": "ValueError",
     "evalue": "wartość musi być z przedziału 5-9",
     "output_type": "error",
     "traceback": [
      "\u001B[1;31m---------------------------------------------------------------------------\u001B[0m",
      "\u001B[1;31mValueError\u001B[0m                                Traceback (most recent call last)",
      "Cell \u001B[1;32mIn [75], line 1\u001B[0m\n\u001B[1;32m----> 1\u001B[0m tel2 \u001B[38;5;241m=\u001B[39m Telephone(\u001B[38;5;124m'\u001B[39m\u001B[38;5;124mname2\u001B[39m\u001B[38;5;124m'\u001B[39m, \u001B[38;5;241m-\u001B[39m\u001B[38;5;241m3\u001B[39m, \u001B[38;5;241m453.2\u001B[39m, \u001B[38;5;124m'\u001B[39m\u001B[38;5;124m(531)543-333\u001B[39m\u001B[38;5;124m'\u001B[39m, \u001B[38;5;241m0\u001B[39m)\n",
      "Cell \u001B[1;32mIn [73], line 22\u001B[0m, in \u001B[0;36mTelephone.__init__\u001B[1;34m(self, name, quality, price, number, diagonal_screen)\u001B[0m\n\u001B[0;32m     20\u001B[0m     \u001B[38;5;28mself\u001B[39m\u001B[38;5;241m.\u001B[39m__diagonal_screen \u001B[38;5;241m=\u001B[39m diagonal_screen\n\u001B[0;32m     21\u001B[0m \u001B[38;5;28;01melse\u001B[39;00m:\n\u001B[1;32m---> 22\u001B[0m     \u001B[38;5;28;01mraise\u001B[39;00m \u001B[38;5;167;01mValueError\u001B[39;00m(\u001B[38;5;124m'\u001B[39m\u001B[38;5;124mwartość musi być z przedziału 5-9\u001B[39m\u001B[38;5;124m'\u001B[39m)\n",
      "\u001B[1;31mValueError\u001B[0m: wartość musi być z przedziału 5-9"
     ]
    }
   ],
   "source": [
    "tel2 = Telephone('name2', -3, 453.2, '(531)543-333', 0)"
   ],
   "metadata": {
    "collapsed": false
   }
  },
  {
   "cell_type": "code",
   "execution_count": 76,
   "outputs": [
    {
     "ename": "ValueError",
     "evalue": "Zbyt ktotka nazwa",
     "output_type": "error",
     "traceback": [
      "\u001B[1;31m---------------------------------------------------------------------------\u001B[0m",
      "\u001B[1;31mValueError\u001B[0m                                Traceback (most recent call last)",
      "Cell \u001B[1;32mIn [76], line 1\u001B[0m\n\u001B[1;32m----> 1\u001B[0m tel1\u001B[38;5;241m.\u001B[39mname\u001B[38;5;241m=\u001B[39m\u001B[38;5;124m'\u001B[39m\u001B[38;5;124ma\u001B[39m\u001B[38;5;124m'\u001B[39m\n",
      "Cell \u001B[1;32mIn [1], line 29\u001B[0m, in \u001B[0;36mProduct.name\u001B[1;34m(self, val)\u001B[0m\n\u001B[0;32m     26\u001B[0m \u001B[38;5;129m@name\u001B[39m\u001B[38;5;241m.\u001B[39msetter\n\u001B[0;32m     27\u001B[0m \u001B[38;5;28;01mdef\u001B[39;00m \u001B[38;5;21mname\u001B[39m(\u001B[38;5;28mself\u001B[39m, val):\n\u001B[0;32m     28\u001B[0m     \u001B[38;5;28;01mif\u001B[39;00m \u001B[38;5;28mlen\u001B[39m(val)\u001B[38;5;241m<\u001B[39m\u001B[38;5;241m2\u001B[39m:\n\u001B[1;32m---> 29\u001B[0m         \u001B[38;5;28;01mraise\u001B[39;00m \u001B[38;5;167;01mValueError\u001B[39;00m(\u001B[38;5;124m'\u001B[39m\u001B[38;5;124mZbyt ktotka nazwa\u001B[39m\u001B[38;5;124m'\u001B[39m)\n\u001B[0;32m     30\u001B[0m     \u001B[38;5;28mself\u001B[39m\u001B[38;5;241m.\u001B[39m__name \u001B[38;5;241m=\u001B[39m val\n",
      "\u001B[1;31mValueError\u001B[0m: Zbyt ktotka nazwa"
     ]
    }
   ],
   "source": [
    "tel1.name='a'"
   ],
   "metadata": {
    "collapsed": false
   }
  },
  {
   "cell_type": "code",
   "execution_count": 77,
   "outputs": [
    {
     "ename": "ValueError",
     "evalue": "blędne dane w numerze",
     "output_type": "error",
     "traceback": [
      "\u001B[1;31m---------------------------------------------------------------------------\u001B[0m",
      "\u001B[1;31mValueError\u001B[0m                                Traceback (most recent call last)",
      "Cell \u001B[1;32mIn [77], line 1\u001B[0m\n\u001B[1;32m----> 1\u001B[0m tel3 \u001B[38;5;241m=\u001B[39m Telephone(\u001B[38;5;124m'\u001B[39m\u001B[38;5;124mname7\u001B[39m\u001B[38;5;124m'\u001B[39m, \u001B[38;5;241m6\u001B[39m, \u001B[38;5;241m453.2\u001B[39m, \u001B[38;5;124m'\u001B[39m\u001B[38;5;124mdfg)-543-333\u001B[39m\u001B[38;5;124m'\u001B[39m, \u001B[38;5;241m7\u001B[39m)\n",
      "Cell \u001B[1;32mIn [73], line 17\u001B[0m, in \u001B[0;36mTelephone.__init__\u001B[1;34m(self, name, quality, price, number, diagonal_screen)\u001B[0m\n\u001B[0;32m     15\u001B[0m         \u001B[38;5;28;01mraise\u001B[39;00m \u001B[38;5;167;01mValueError\u001B[39;00m(\u001B[38;5;124m'\u001B[39m\u001B[38;5;124mblędne dane w numerze\u001B[39m\u001B[38;5;124m'\u001B[39m)\n\u001B[0;32m     16\u001B[0m \u001B[38;5;28;01melse\u001B[39;00m:\n\u001B[1;32m---> 17\u001B[0m     \u001B[38;5;28;01mraise\u001B[39;00m \u001B[38;5;167;01mValueError\u001B[39;00m(\u001B[38;5;124m'\u001B[39m\u001B[38;5;124mblędne dane w numerze\u001B[39m\u001B[38;5;124m'\u001B[39m)\n\u001B[0;32m     19\u001B[0m \u001B[38;5;28;01mif\u001B[39;00m \u001B[38;5;241m5\u001B[39m \u001B[38;5;241m<\u001B[39m\u001B[38;5;241m=\u001B[39m diagonal_screen \u001B[38;5;241m<\u001B[39m\u001B[38;5;241m=\u001B[39m \u001B[38;5;241m9\u001B[39m:\n\u001B[0;32m     20\u001B[0m     \u001B[38;5;28mself\u001B[39m\u001B[38;5;241m.\u001B[39m__diagonal_screen \u001B[38;5;241m=\u001B[39m diagonal_screen\n",
      "\u001B[1;31mValueError\u001B[0m: blędne dane w numerze"
     ]
    }
   ],
   "source": [
    "tel3 = Telephone('name7', 6, 453.2, 'dfg)-543-333', 7)"
   ],
   "metadata": {
    "collapsed": false
   }
  },
  {
   "cell_type": "markdown",
   "source": [
    "Stwórz listę zawierającą 10 liczb całkowitych. Następnie za pomocą wyrażeń lambda stwórz listę\n",
    "zawierającą te, które nie są liczbami pierwszymi."
   ],
   "metadata": {
    "collapsed": false
   }
  },
  {
   "cell_type": "code",
   "execution_count": 78,
   "outputs": [],
   "source": [
    "zad2 = [1,2,3,4,5,7,10,15,19,20]"
   ],
   "metadata": {
    "collapsed": false
   }
  },
  {
   "cell_type": "code",
   "execution_count": 79,
   "outputs": [],
   "source": [
    "def pierwsza(liczba):\n",
    "  for i in range(2,liczba):\n",
    "    if liczba%i == 0:\n",
    "      return False\n",
    "  return True"
   ],
   "metadata": {
    "collapsed": false
   }
  },
  {
   "cell_type": "code",
   "execution_count": 80,
   "outputs": [],
   "source": [
    "lista = list(filter(lambda x:pierwsza(x) , zad2))"
   ],
   "metadata": {
    "collapsed": false
   }
  },
  {
   "cell_type": "code",
   "execution_count": 81,
   "outputs": [
    {
     "data": {
      "text/plain": "[1, 2, 3, 5, 7, 19]"
     },
     "execution_count": 81,
     "metadata": {},
     "output_type": "execute_result"
    }
   ],
   "source": [
    "lista"
   ],
   "metadata": {
    "collapsed": false
   }
  },
  {
   "cell_type": "markdown",
   "source": [
    "Napisz funkcję, która przyjmuje krotkę liczb całkowitych. Funkcja zwraca najmniejszą wartość spośród\n",
    "liczb. Wyrzuć wyjątek jeśli na krotce znajduje się co najmniej jedna liczba ujemna. Przetestuj działanie\n",
    "funkcji."
   ],
   "metadata": {
    "collapsed": false
   }
  },
  {
   "cell_type": "code",
   "execution_count": 82,
   "outputs": [],
   "source": [
    "zad3 = (2,3,4,5,7,10,15,-9,20)"
   ],
   "metadata": {
    "collapsed": false
   }
  },
  {
   "cell_type": "code",
   "execution_count": 83,
   "outputs": [
    {
     "ename": "ValueError",
     "evalue": "Blad, w krotce jest ujemna liczba",
     "output_type": "error",
     "traceback": [
      "\u001B[1;31m---------------------------------------------------------------------------\u001B[0m",
      "\u001B[1;31mValueError\u001B[0m                                Traceback (most recent call last)",
      "Cell \u001B[1;32mIn [83], line 8\u001B[0m\n\u001B[0;32m      4\u001B[0m         \u001B[38;5;28;01mraise\u001B[39;00m \u001B[38;5;167;01mValueError\u001B[39;00m(\u001B[38;5;124m'\u001B[39m\u001B[38;5;124mBlad, w krotce jest ujemna liczba\u001B[39m\u001B[38;5;124m'\u001B[39m)\n\u001B[0;32m      5\u001B[0m     \u001B[38;5;28;01mreturn\u001B[39;00m m\n\u001B[1;32m----> 8\u001B[0m minimum \u001B[38;5;241m=\u001B[39m najmniejsza(zad3)\n\u001B[0;32m      9\u001B[0m minimum\n",
      "Cell \u001B[1;32mIn [83], line 4\u001B[0m, in \u001B[0;36mnajmniejsza\u001B[1;34m(liczby)\u001B[0m\n\u001B[0;32m      2\u001B[0m m \u001B[38;5;241m=\u001B[39m \u001B[38;5;28mmin\u001B[39m(liczby)\n\u001B[0;32m      3\u001B[0m \u001B[38;5;28;01mif\u001B[39;00m m\u001B[38;5;241m<\u001B[39m\u001B[38;5;241m0\u001B[39m:\n\u001B[1;32m----> 4\u001B[0m     \u001B[38;5;28;01mraise\u001B[39;00m \u001B[38;5;167;01mValueError\u001B[39;00m(\u001B[38;5;124m'\u001B[39m\u001B[38;5;124mBlad, w krotce jest ujemna liczba\u001B[39m\u001B[38;5;124m'\u001B[39m)\n\u001B[0;32m      5\u001B[0m \u001B[38;5;28;01mreturn\u001B[39;00m m\n",
      "\u001B[1;31mValueError\u001B[0m: Blad, w krotce jest ujemna liczba"
     ]
    }
   ],
   "source": [
    "def najmniejsza(liczby):\n",
    "    m = min(liczby)\n",
    "    if m<0:\n",
    "        raise ValueError('Blad, w krotce jest ujemna liczba')\n",
    "    return m\n",
    "\n",
    "\n",
    "minimum = najmniejsza(zad3)\n",
    "minimum"
   ],
   "metadata": {
    "collapsed": false
   }
  },
  {
   "cell_type": "code",
   "execution_count": 83,
   "outputs": [],
   "source": [],
   "metadata": {
    "collapsed": false
   }
  },
  {
   "cell_type": "code",
   "execution_count": 84,
   "outputs": [],
   "source": [
    "\n",
    "def sprawdz_typ(value):\n",
    "    def decorator(function):\n",
    "        def wrapper(*args, **kwargs):\n",
    "            if type(value) != str:\n",
    "                raise Exception(\"bledny typ, poprawnym jest str\")\n",
    "            wynik = function(*args, **kwargs)\n",
    "            return wynik\n",
    "        return wrapper\n",
    "    return decorator\n",
    "\n"
   ],
   "metadata": {
    "collapsed": false
   }
  },
  {
   "cell_type": "markdown",
   "source": [
    "Stwórz klasę House z prywatnymi atrybutami address oraz floors. Dodaj w klasie metodę __init__\n",
    "z dwoma argumentami ustawiającą z nich odpowiednie atrybuty. Dodaj w klasie właściwości (getter i\n",
    "setter).\n",
    "2. Stwórz poza klasą dekorator, który przyjmuje jako parametr typ i sprawdza, czy argument przekazany\n",
    "do funkcji jest tego typu. Jeśli nie, to zwraca odpowiedni komunikat o błędzie.\n",
    "1\n",
    "3. Uzupełnij metodę __init__ w klasie House za pomocą dekoratora tak, aby by adres był napisem.\n",
    "Możesz w razie potrzeby zmodyfikować nieco dekorator.\n",
    "4. Poza klasą sprawdź działanie ograniczenia i przechwyć ew. wyjątki."
   ],
   "metadata": {
    "collapsed": false
   }
  },
  {
   "cell_type": "code",
   "execution_count": 85,
   "outputs": [],
   "source": [
    "class House:\n",
    "    __addres: str\n",
    "    __floors:int\n",
    "\n",
    "    def __init__(self, adres, floors):\n",
    "        self.__addres = adres\n",
    "        if floors<=0:\n",
    "            raise ValueError('bleda ilosc pieter')\n",
    "        else:\n",
    "            self.__floors = floors\n",
    "\n",
    "    @property\n",
    "    def addres(self):\n",
    "        return self.__addres\n",
    "\n",
    "    @addres.setter\n",
    "    @sprawdz_typ(str)\n",
    "    def addres(self, val):\n",
    "        self.__addres = val\n",
    "\n",
    "    @property\n",
    "    def floors(self):\n",
    "        return self.__floors\n",
    "\n",
    "    @floors.setter\n",
    "    def floors(self, val):\n",
    "        if val<=0:\n",
    "            raise ValueError('Bledna ilosc pieter')\n",
    "        self.__floors = val"
   ],
   "metadata": {
    "collapsed": false
   }
  },
  {
   "cell_type": "code",
   "execution_count": 86,
   "outputs": [],
   "source": [
    "h = House('sadsadas', 4)\n"
   ],
   "metadata": {
    "collapsed": false
   }
  },
  {
   "cell_type": "code",
   "execution_count": 87,
   "outputs": [
    {
     "ename": "Exception",
     "evalue": "bledny typ, poprawnym jest str",
     "output_type": "error",
     "traceback": [
      "\u001B[1;31m---------------------------------------------------------------------------\u001B[0m",
      "\u001B[1;31mException\u001B[0m                                 Traceback (most recent call last)",
      "Cell \u001B[1;32mIn [87], line 1\u001B[0m\n\u001B[1;32m----> 1\u001B[0m h\u001B[38;5;241m.\u001B[39maddres \u001B[38;5;241m=\u001B[39m \u001B[38;5;241m5\u001B[39m\n",
      "Cell \u001B[1;32mIn [84], line 5\u001B[0m, in \u001B[0;36msprawdz_typ.<locals>.decorator.<locals>.wrapper\u001B[1;34m(*args, **kwargs)\u001B[0m\n\u001B[0;32m      3\u001B[0m \u001B[38;5;28;01mdef\u001B[39;00m \u001B[38;5;21mwrapper\u001B[39m(\u001B[38;5;241m*\u001B[39margs, \u001B[38;5;241m*\u001B[39m\u001B[38;5;241m*\u001B[39mkwargs):\n\u001B[0;32m      4\u001B[0m     \u001B[38;5;28;01mif\u001B[39;00m \u001B[38;5;28mtype\u001B[39m(value) \u001B[38;5;241m!=\u001B[39m \u001B[38;5;28mstr\u001B[39m:\n\u001B[1;32m----> 5\u001B[0m         \u001B[38;5;28;01mraise\u001B[39;00m \u001B[38;5;167;01mException\u001B[39;00m(\u001B[38;5;124m\"\u001B[39m\u001B[38;5;124mbledny typ, poprawnym jest str\u001B[39m\u001B[38;5;124m\"\u001B[39m)\n\u001B[0;32m      6\u001B[0m     wynik \u001B[38;5;241m=\u001B[39m function(\u001B[38;5;241m*\u001B[39margs, \u001B[38;5;241m*\u001B[39m\u001B[38;5;241m*\u001B[39mkwargs)\n\u001B[0;32m      7\u001B[0m     \u001B[38;5;28;01mreturn\u001B[39;00m wynik\n",
      "\u001B[1;31mException\u001B[0m: bledny typ, poprawnym jest str"
     ]
    }
   ],
   "source": [
    "h.addres = 5"
   ],
   "metadata": {
    "collapsed": false
   }
  },
  {
   "cell_type": "code",
   "execution_count": 88,
   "outputs": [
    {
     "ename": "ValueError",
     "evalue": "bleda ilosc pieter",
     "output_type": "error",
     "traceback": [
      "\u001B[1;31m---------------------------------------------------------------------------\u001B[0m",
      "\u001B[1;31mValueError\u001B[0m                                Traceback (most recent call last)",
      "Cell \u001B[1;32mIn [88], line 1\u001B[0m\n\u001B[1;32m----> 1\u001B[0m h1 \u001B[38;5;241m=\u001B[39m House(\u001B[38;5;124m'\u001B[39m\u001B[38;5;124mdddddd\u001B[39m\u001B[38;5;124m'\u001B[39m, \u001B[38;5;241m-\u001B[39m\u001B[38;5;241m1\u001B[39m)\n",
      "Cell \u001B[1;32mIn [85], line 8\u001B[0m, in \u001B[0;36mHouse.__init__\u001B[1;34m(self, adres, floors)\u001B[0m\n\u001B[0;32m      6\u001B[0m \u001B[38;5;28mself\u001B[39m\u001B[38;5;241m.\u001B[39m__addres \u001B[38;5;241m=\u001B[39m adres\n\u001B[0;32m      7\u001B[0m \u001B[38;5;28;01mif\u001B[39;00m floors\u001B[38;5;241m<\u001B[39m\u001B[38;5;241m=\u001B[39m\u001B[38;5;241m0\u001B[39m:\n\u001B[1;32m----> 8\u001B[0m     \u001B[38;5;28;01mraise\u001B[39;00m \u001B[38;5;167;01mValueError\u001B[39;00m(\u001B[38;5;124m'\u001B[39m\u001B[38;5;124mbleda ilosc pieter\u001B[39m\u001B[38;5;124m'\u001B[39m)\n\u001B[0;32m      9\u001B[0m \u001B[38;5;28;01melse\u001B[39;00m:\n\u001B[0;32m     10\u001B[0m     \u001B[38;5;28mself\u001B[39m\u001B[38;5;241m.\u001B[39m__floors \u001B[38;5;241m=\u001B[39m floors\n",
      "\u001B[1;31mValueError\u001B[0m: bleda ilosc pieter"
     ]
    }
   ],
   "source": [
    "h1 = House('dddddd', -1)"
   ],
   "metadata": {
    "collapsed": false
   }
  },
  {
   "cell_type": "code",
   "execution_count": null,
   "outputs": [],
   "source": [],
   "metadata": {
    "collapsed": false
   }
  }
 ],
 "metadata": {
  "kernelspec": {
   "display_name": "Python 3",
   "language": "python",
   "name": "python3"
  },
  "language_info": {
   "codemirror_mode": {
    "name": "ipython",
    "version": 2
   },
   "file_extension": ".py",
   "mimetype": "text/x-python",
   "name": "python",
   "nbconvert_exporter": "python",
   "pygments_lexer": "ipython2",
   "version": "2.7.6"
  }
 },
 "nbformat": 4,
 "nbformat_minor": 0
}

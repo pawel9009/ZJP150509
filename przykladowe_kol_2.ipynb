{
 "cells": [
  {
   "cell_type": "markdown",
   "metadata": {
    "collapsed": true,
    "pycharm": {
     "name": "#%% md\n"
    }
   },
   "source": [
    "Napisz klasę Game. Klasa powinna posiadać prywatne atrybuty instancyjne:\n",
    "1. name typu str (pol. nazwa gry)\n",
    "2. genre typu str (pol. gatunek)\n",
    "3. pegi typu int (pol. klasyfikacja wiekowa – minimalny wiek)\n",
    "4. price typu float (pol. cena)\n",
    "5. reputation typu float (pol. średnia recenzja gier)\n",
    "Zaimplementuj inicjalizator z pięcioma argumentami (zachowaj kolejność i nazwy jak wcześniej). Zadbaj\n",
    "również o to aby inicjalizator w razie podania pegi spoza przedziału [0,18], ustawiał wartość 18. Ponadto\n",
    "niezależnie należy sprawdzić, aby cena była dodatnia (w innym wypadku ustawić 50.99) oraz aby, atrybut\n",
    "związany recenzją może przyjmować wartości z przedziału [1,6] (w innym wypadku ustawić na 1.0).\n",
    "Dodaj do klasy właściwości - (getter i setter). Jeśli dla setterów podane wartości argumentów nie spełniają\n",
    "założeń - wyrzuć wyjątek z odpowiednim komunikatem.\n",
    "Zaimplementuj klasę Strategy dziedziczącą po klasie Game. Klasa ta powinna posiadać atrybuty instancyjne\n",
    "prywatne:\n",
    "1. strategy_type (pol. rodzaj gry strategicznej), typu str\n",
    "2. players typu int (pl. liczba graczy).\n",
    "Rozszerz w tej klasie inicjalizator. Niezależnie sprawdź następujące warunki. Atrybut strategy_game może\n",
    "być napisem zawierającym co najmniej 3 znaki – w przeciwnym wypadku ustaw „RTS”. Liczba graczy musi\n",
    "być liczbą dodatnią, w przeciwnym wypadku ustaw ją na 5.\n",
    "Zaimplementuj właściwości (setter i getter) dla każdego atrybutu. Jeśli dla setterów podane wartości\n",
    "argumentów nie spełniają założeń, wyrzuć wyjątek z odpowiednim komunikatem.\n",
    "Poza wspomianymi wyżej klasami stwórz co najmniej 3 obiekty i przechwyć ew. wyjątki."
   ]
  },
  {
   "cell_type": "code",
   "execution_count": 72,
   "outputs": [],
   "source": [
    "class Game:\n",
    "    __name: str\n",
    "    __genre: str\n",
    "    __pegi: int\n",
    "    __price: float\n",
    "    __reputation: float\n",
    "\n",
    "    def __init__(self, name, genre, pegi, price, reputation):\n",
    "        self.__name = name\n",
    "        self.__genre = genre\n",
    "        self.__pegi = min(18, pegi)\n",
    "        if price >= 0:\n",
    "            self.__price = price\n",
    "        else:\n",
    "            self.__price = 50.99\n",
    "        if reputation in [x for x in range(1, 7)]:\n",
    "            self.__reputation = reputation\n",
    "        else:\n",
    "            self.__reputation = 1.0\n",
    "\n",
    "    @property\n",
    "    def name(self):\n",
    "        return self.__name\n",
    "\n",
    "    @name.setter\n",
    "    def name(self, val):\n",
    "        self.__name = val\n",
    "\n",
    "    @property\n",
    "    def genre(self):\n",
    "        return self.__genre\n",
    "\n",
    "    @genre.setter\n",
    "    def genre(self, val):\n",
    "        self.__genre = val\n",
    "\n",
    "    @property\n",
    "    def pegi(self):\n",
    "        return self.__pegi\n",
    "\n",
    "    @pegi.setter\n",
    "    def pegi(self, val):\n",
    "        if not 0 <= val <= 18:\n",
    "            raise ValueError('Poprawna wartosc pegi to 0-18')\n",
    "        self.__pegi = val\n",
    "\n",
    "    @property\n",
    "    def price(self):\n",
    "        return self.__price\n",
    "\n",
    "    @price.setter\n",
    "    def price(self, val):\n",
    "        if val < 0:\n",
    "            raise ValueError('Poprawna wartosc ceny powinna byc dodatnia')\n",
    "        self.__price = val\n",
    "\n",
    "    @property\n",
    "    def reputation(self):\n",
    "        return self.__reputation\n",
    "\n",
    "    @reputation.setter\n",
    "    def reputation(self, val):\n",
    "        if not 1 <= val <= 6:\n",
    "            raise ValueError('Poprawna wartosc reputacji to 1-6')\n",
    "        self.__reputation = val\n",
    "\n",
    "\n",
    "class Strategy(Game):\n",
    "    __strategy_type: str\n",
    "    __players: int\n",
    "\n",
    "    def __init__(self, name, genre, pegi, price, reputation, strategy, players):\n",
    "        super(Strategy, self).__init__(name, genre, pegi, price, reputation)\n",
    "        if len(strategy) >= 3:\n",
    "            self.__strategy_type = strategy\n",
    "        else:\n",
    "            self.__strategy_type = 'RTS'\n",
    "        if players > 0:\n",
    "            self.__players = players\n",
    "        else:\n",
    "            self.__players = 5\n",
    "\n",
    "    @property\n",
    "    def strategy_type(self):\n",
    "        return self.__strategy_type\n",
    "\n",
    "    @strategy_type.setter\n",
    "    def strategy_type(self, val):\n",
    "        if len(val) < 3:\n",
    "            raise ValueError('Długość powinna byc wieksza od 2')\n",
    "        self.__strategy_type = val\n",
    "\n",
    "    @property\n",
    "    def players(self):\n",
    "        return self.__players\n",
    "\n",
    "    @players.setter\n",
    "    def players(self, val):\n",
    "        if val < 0:\n",
    "            raise ValueError('Ilosc graczy powinna być dodatnia')\n",
    "        self.__players = val\n"
   ],
   "metadata": {
    "collapsed": false,
    "pycharm": {
     "name": "#%%\n"
    }
   }
  },
  {
   "cell_type": "code",
   "execution_count": 73,
   "outputs": [],
   "source": [
    "g1 = Game('aaa', 'rts', 17, 44.5, 4.1)\n",
    "g2 = Game('bbb', 'strategy', 8, 19.5, 75)\n",
    "g3 = Game('ccc', 'sym', 55, -225, 4.1)"
   ],
   "metadata": {
    "collapsed": false,
    "pycharm": {
     "name": "#%%\n"
    }
   }
  },
  {
   "cell_type": "code",
   "execution_count": 74,
   "outputs": [
    {
     "ename": "ValueError",
     "evalue": "Poprawna wartosc pegi to 0-18",
     "output_type": "error",
     "traceback": [
      "\u001B[1;31m---------------------------------------------------------------------------\u001B[0m",
      "\u001B[1;31mValueError\u001B[0m                                Traceback (most recent call last)",
      "Input \u001B[1;32mIn [74]\u001B[0m, in \u001B[0;36m<cell line: 1>\u001B[1;34m()\u001B[0m\n\u001B[1;32m----> 1\u001B[0m g1\u001B[38;5;241m.\u001B[39mpegi \u001B[38;5;241m=\u001B[39m \u001B[38;5;241m54\u001B[39m\n",
      "Input \u001B[1;32mIn [72]\u001B[0m, in \u001B[0;36mGame.pegi\u001B[1;34m(self, val)\u001B[0m\n\u001B[0;32m     41\u001B[0m \u001B[38;5;129m@pegi\u001B[39m\u001B[38;5;241m.\u001B[39msetter\n\u001B[0;32m     42\u001B[0m \u001B[38;5;28;01mdef\u001B[39;00m \u001B[38;5;21mpegi\u001B[39m(\u001B[38;5;28mself\u001B[39m, val):\n\u001B[0;32m     43\u001B[0m     \u001B[38;5;28;01mif\u001B[39;00m \u001B[38;5;129;01mnot\u001B[39;00m \u001B[38;5;241m0\u001B[39m \u001B[38;5;241m<\u001B[39m\u001B[38;5;241m=\u001B[39m val \u001B[38;5;241m<\u001B[39m\u001B[38;5;241m=\u001B[39m \u001B[38;5;241m18\u001B[39m:\n\u001B[1;32m---> 44\u001B[0m         \u001B[38;5;28;01mraise\u001B[39;00m \u001B[38;5;167;01mValueError\u001B[39;00m(\u001B[38;5;124m'\u001B[39m\u001B[38;5;124mPoprawna wartosc pegi to 0-18\u001B[39m\u001B[38;5;124m'\u001B[39m)\n\u001B[0;32m     45\u001B[0m     \u001B[38;5;28mself\u001B[39m\u001B[38;5;241m.\u001B[39m__pegi \u001B[38;5;241m=\u001B[39m val\n",
      "\u001B[1;31mValueError\u001B[0m: Poprawna wartosc pegi to 0-18"
     ]
    }
   ],
   "source": [
    "g1.pegi = 54"
   ],
   "metadata": {
    "collapsed": false,
    "pycharm": {
     "name": "#%%\n"
    }
   }
  },
  {
   "cell_type": "code",
   "execution_count": 75,
   "outputs": [
    {
     "ename": "ValueError",
     "evalue": "Poprawna wartosc ceny powinna byc dodatnia",
     "output_type": "error",
     "traceback": [
      "\u001B[1;31m---------------------------------------------------------------------------\u001B[0m",
      "\u001B[1;31mValueError\u001B[0m                                Traceback (most recent call last)",
      "Input \u001B[1;32mIn [75]\u001B[0m, in \u001B[0;36m<cell line: 1>\u001B[1;34m()\u001B[0m\n\u001B[1;32m----> 1\u001B[0m g3\u001B[38;5;241m.\u001B[39mprice \u001B[38;5;241m=\u001B[39m \u001B[38;5;241m-\u001B[39m\u001B[38;5;241m342\u001B[39m\n",
      "Input \u001B[1;32mIn [72]\u001B[0m, in \u001B[0;36mGame.price\u001B[1;34m(self, val)\u001B[0m\n\u001B[0;32m     51\u001B[0m \u001B[38;5;129m@price\u001B[39m\u001B[38;5;241m.\u001B[39msetter\n\u001B[0;32m     52\u001B[0m \u001B[38;5;28;01mdef\u001B[39;00m \u001B[38;5;21mprice\u001B[39m(\u001B[38;5;28mself\u001B[39m, val):\n\u001B[0;32m     53\u001B[0m     \u001B[38;5;28;01mif\u001B[39;00m val \u001B[38;5;241m<\u001B[39m \u001B[38;5;241m0\u001B[39m:\n\u001B[1;32m---> 54\u001B[0m         \u001B[38;5;28;01mraise\u001B[39;00m \u001B[38;5;167;01mValueError\u001B[39;00m(\u001B[38;5;124m'\u001B[39m\u001B[38;5;124mPoprawna wartosc ceny powinna byc dodatnia\u001B[39m\u001B[38;5;124m'\u001B[39m)\n\u001B[0;32m     55\u001B[0m     \u001B[38;5;28mself\u001B[39m\u001B[38;5;241m.\u001B[39m__price \u001B[38;5;241m=\u001B[39m val\n",
      "\u001B[1;31mValueError\u001B[0m: Poprawna wartosc ceny powinna byc dodatnia"
     ]
    }
   ],
   "source": [
    "g3.price = -342"
   ],
   "metadata": {
    "collapsed": false,
    "pycharm": {
     "name": "#%%\n"
    }
   }
  },
  {
   "cell_type": "code",
   "execution_count": 76,
   "outputs": [],
   "source": [
    "st = Strategy('dssfd', 'dsfsdf', 11, -34, 3, 'a', 6)"
   ],
   "metadata": {
    "collapsed": false,
    "pycharm": {
     "name": "#%%\n"
    }
   }
  },
  {
   "cell_type": "code",
   "execution_count": 77,
   "outputs": [
    {
     "ename": "ValueError",
     "evalue": "Ilosc graczy powinna być dodatnia",
     "output_type": "error",
     "traceback": [
      "\u001B[1;31m---------------------------------------------------------------------------\u001B[0m",
      "\u001B[1;31mValueError\u001B[0m                                Traceback (most recent call last)",
      "Input \u001B[1;32mIn [77]\u001B[0m, in \u001B[0;36m<cell line: 1>\u001B[1;34m()\u001B[0m\n\u001B[1;32m----> 1\u001B[0m st\u001B[38;5;241m.\u001B[39mplayers \u001B[38;5;241m=\u001B[39m \u001B[38;5;241m-\u001B[39m\u001B[38;5;241m1\u001B[39m\n",
      "Input \u001B[1;32mIn [72]\u001B[0m, in \u001B[0;36mStrategy.players\u001B[1;34m(self, val)\u001B[0m\n\u001B[0;32m     97\u001B[0m \u001B[38;5;129m@players\u001B[39m\u001B[38;5;241m.\u001B[39msetter\n\u001B[0;32m     98\u001B[0m \u001B[38;5;28;01mdef\u001B[39;00m \u001B[38;5;21mplayers\u001B[39m(\u001B[38;5;28mself\u001B[39m, val):\n\u001B[0;32m     99\u001B[0m     \u001B[38;5;28;01mif\u001B[39;00m val \u001B[38;5;241m<\u001B[39m \u001B[38;5;241m0\u001B[39m:\n\u001B[1;32m--> 100\u001B[0m         \u001B[38;5;28;01mraise\u001B[39;00m \u001B[38;5;167;01mValueError\u001B[39;00m(\u001B[38;5;124m'\u001B[39m\u001B[38;5;124mIlosc graczy powinna być dodatnia\u001B[39m\u001B[38;5;124m'\u001B[39m)\n\u001B[0;32m    101\u001B[0m     \u001B[38;5;28mself\u001B[39m\u001B[38;5;241m.\u001B[39m__players \u001B[38;5;241m=\u001B[39m val\n",
      "\u001B[1;31mValueError\u001B[0m: Ilosc graczy powinna być dodatnia"
     ]
    }
   ],
   "source": [
    "st.players = -1"
   ],
   "metadata": {
    "collapsed": false,
    "pycharm": {
     "name": "#%%\n"
    }
   }
  },
  {
   "cell_type": "markdown",
   "source": [
    "1. Stwórz listę zawierającą 10 imion (będących napisami). Następnie za pomocą wyrażeń lambda stwórz\n",
    "listę zawierającą imiona rozpoczynające się od samogłoski (dot. liter z alfabetu łacińskiego)."
   ],
   "metadata": {
    "collapsed": false,
    "pycharm": {
     "name": "#%% md\n"
    }
   }
  },
  {
   "cell_type": "code",
   "execution_count": 78,
   "outputs": [],
   "source": [
    "lista_imion = ['Jakub', 'Kacper', 'Lena', 'Julia', 'Ignacy', 'Zuzanna', 'Szymon',\n",
    "               'Jan', 'Ola', 'Kamil']\n",
    "samogloski = ['a', 'e', 'y', 'i', 'o', 'ą', 'ę', 'u', 'ó','A','E','Y','I','O','U']"
   ],
   "metadata": {
    "collapsed": false,
    "pycharm": {
     "name": "#%%\n"
    }
   }
  },
  {
   "cell_type": "code",
   "execution_count": 79,
   "outputs": [],
   "source": [
    "nowa_lista = list(filter(lambda imie:imie[0] in samogloski, lista_imion))"
   ],
   "metadata": {
    "collapsed": false,
    "pycharm": {
     "name": "#%%\n"
    }
   }
  },
  {
   "cell_type": "code",
   "execution_count": 80,
   "outputs": [
    {
     "data": {
      "text/plain": "['Ignacy', 'Ola']"
     },
     "execution_count": 80,
     "metadata": {},
     "output_type": "execute_result"
    }
   ],
   "source": [
    "nowa_lista"
   ],
   "metadata": {
    "collapsed": false,
    "pycharm": {
     "name": "#%%\n"
    }
   }
  },
  {
   "cell_type": "markdown",
   "source": [
    "Napisz funkcję, która przyjmuje listę liczb całkowitych i zwraca sumę wszystkich elementów z listy,\n",
    "jeśli lista nie jest pusta, w przeciwnym razie rzuć wyjątek “IndexError” z odpowiednim komunikatem.\n",
    "Przetestuj działanie funkcji."
   ],
   "metadata": {
    "collapsed": false,
    "pycharm": {
     "name": "#%% md\n"
    }
   }
  },
  {
   "cell_type": "code",
   "execution_count": 81,
   "outputs": [],
   "source": [
    "def suma_liczb(lista):\n",
    "    if not lista:\n",
    "        raise IndexError('brak wartości')\n",
    "    return sum(lista)\n"
   ],
   "metadata": {
    "collapsed": false,
    "pycharm": {
     "name": "#%%\n"
    }
   }
  },
  {
   "cell_type": "code",
   "execution_count": 82,
   "outputs": [
    {
     "name": "stdout",
     "output_type": "stream",
     "text": [
      "15\n"
     ]
    }
   ],
   "source": [
    "print(suma_liczb([1,2,3,4,5]))"
   ],
   "metadata": {
    "collapsed": false,
    "pycharm": {
     "name": "#%%\n"
    }
   }
  },
  {
   "cell_type": "code",
   "execution_count": 83,
   "outputs": [
    {
     "ename": "IndexError",
     "evalue": "brak wartości",
     "output_type": "error",
     "traceback": [
      "\u001B[1;31m---------------------------------------------------------------------------\u001B[0m",
      "\u001B[1;31mIndexError\u001B[0m                                Traceback (most recent call last)",
      "Input \u001B[1;32mIn [83]\u001B[0m, in \u001B[0;36m<cell line: 1>\u001B[1;34m()\u001B[0m\n\u001B[1;32m----> 1\u001B[0m \u001B[38;5;28mprint\u001B[39m(\u001B[43msuma_liczb\u001B[49m\u001B[43m(\u001B[49m\u001B[43m[\u001B[49m\u001B[43m]\u001B[49m\u001B[43m)\u001B[49m)\n",
      "Input \u001B[1;32mIn [81]\u001B[0m, in \u001B[0;36msuma_liczb\u001B[1;34m(lista)\u001B[0m\n\u001B[0;32m      1\u001B[0m \u001B[38;5;28;01mdef\u001B[39;00m \u001B[38;5;21msuma_liczb\u001B[39m(lista):\n\u001B[0;32m      2\u001B[0m     \u001B[38;5;28;01mif\u001B[39;00m \u001B[38;5;129;01mnot\u001B[39;00m lista:\n\u001B[1;32m----> 3\u001B[0m         \u001B[38;5;28;01mraise\u001B[39;00m \u001B[38;5;167;01mIndexError\u001B[39;00m(\u001B[38;5;124m'\u001B[39m\u001B[38;5;124mbrak wartości\u001B[39m\u001B[38;5;124m'\u001B[39m)\n\u001B[0;32m      4\u001B[0m     \u001B[38;5;28;01mreturn\u001B[39;00m \u001B[38;5;28msum\u001B[39m(lista)\n",
      "\u001B[1;31mIndexError\u001B[0m: brak wartości"
     ]
    }
   ],
   "source": [
    "print(suma_liczb([]))"
   ],
   "metadata": {
    "collapsed": false,
    "pycharm": {
     "name": "#%%\n"
    }
   }
  },
  {
   "cell_type": "code",
   "execution_count": 84,
   "outputs": [],
   "source": [
    "from functools import wraps\n",
    "\n",
    "def limit(max_ilosc):\n",
    "    def decorator(function):\n",
    "        i = 0\n",
    "        @wraps(function)\n",
    "        def wrapper(*args, **kwargs):\n",
    "            nonlocal i\n",
    "            if i >= max_ilosc:\n",
    "                raise Exception(\"Maksymalna ilosc instancji\")\n",
    "            wynik = function(*args, **kwargs)\n",
    "            i += 1\n",
    "            return wynik\n",
    "        return wrapper\n",
    "    return decorator"
   ],
   "metadata": {
    "collapsed": false,
    "pycharm": {
     "name": "#%%\n"
    }
   }
  },
  {
   "cell_type": "markdown",
   "source": [
    "Stwórz klasę Book z prywatnymi atrybutami author i title. Dodaj w klasie metodę __init__ z\n",
    "dwoma argumentami ustawiającą z nich odpowiednie atrybuty. Dodaj w klasie właściwości (getter i\n",
    "setter).\n",
    "1\n",
    "2. Stwórz poza klasą dekorator z parametrem limit i sprawdza, czy ilość wywołań funkcji nie przekroczyła\n",
    "tego limitu. Jeśli tak, to zwraca wyjątek komunikatem o błędzie.\n",
    "3. Uzupełnij metodę __init__ w klasie Book za pomocą dekoratora tak, aby była możliwość stworzenia\n",
    "maksymalnie trzech obiektów.\n",
    "4. Poza klasą sprawdź działanie limitu na tworzenie obiektów i przechwyć ew. wyjątki"
   ],
   "metadata": {
    "collapsed": false,
    "pycharm": {
     "name": "#%% md\n"
    }
   }
  },
  {
   "cell_type": "code",
   "execution_count": 85,
   "outputs": [],
   "source": [
    "class Book:\n",
    "    __author:str\n",
    "    __title:str\n",
    "\n",
    "    @limit(3)\n",
    "    def __init__(self, author, title):\n",
    "        self.__author = author\n",
    "        self.__title = title\n",
    "\n",
    "\n",
    "    @property\n",
    "    def author(self):\n",
    "        return self.__author\n",
    "\n",
    "    @author.setter\n",
    "    def author(self, val):\n",
    "        self.__author = val\n",
    "\n",
    "    @property\n",
    "    def title(self):\n",
    "        return self.__title\n",
    "\n",
    "    @title.setter\n",
    "    def title(self, val):\n",
    "        self.__title = val"
   ],
   "metadata": {
    "collapsed": false,
    "pycharm": {
     "name": "#%%\n"
    }
   }
  },
  {
   "cell_type": "code",
   "execution_count": 86,
   "outputs": [
    {
     "name": "stdout",
     "output_type": "stream",
     "text": [
      "('Maksymalna ilosc instancji',)\n"
     ]
    }
   ],
   "source": [
    "try:\n",
    "    b1 = Book('asdsd', 'asdsad')\n",
    "    b2 = Book('aaaaaaa','ddddddd')\n",
    "    b3 = Book('ggggggg','dffffffff')\n",
    "\n",
    "    b4 = Book('asdsd', 'asdasd')\n",
    "except Exception as e:\n",
    "    print(e.args)"
   ],
   "metadata": {
    "collapsed": false,
    "pycharm": {
     "name": "#%%\n"
    }
   }
  },
  {
   "cell_type": "code",
   "execution_count": null,
   "outputs": [],
   "source": [],
   "metadata": {
    "collapsed": false,
    "pycharm": {
     "name": "#%%\n"
    }
   }
  }
 ],
 "metadata": {
  "kernelspec": {
   "display_name": "Python 3",
   "language": "python",
   "name": "python3"
  },
  "language_info": {
   "codemirror_mode": {
    "name": "ipython",
    "version": 2
   },
   "file_extension": ".py",
   "mimetype": "text/x-python",
   "name": "python",
   "nbconvert_exporter": "python",
   "pygments_lexer": "ipython2",
   "version": "2.7.6"
  }
 },
 "nbformat": 4,
 "nbformat_minor": 0
}
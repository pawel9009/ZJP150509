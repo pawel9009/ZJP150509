{
 "cells": [
  {
   "cell_type": "markdown",
   "metadata": {
    "collapsed": true,
    "pycharm": {
     "name": "#%% md\n"
    }
   },
   "source": [
    "Dot zad. 1-3: Każdy obiekt należy stworzyć co najmniej jeden raz i każdą metodę/funkcję należy wywołać co\n",
    "najmniej jeden raz (o ile nie napisano inaczej). (8pkt)\n",
    "1. (12pkt) Stwórz klasę Travel a w niej następujące składniki:\n",
    "• dodaj zmienne instancyjne: goal (str), price (float), travel date (dowolny typ przechowujący datę\n",
    "z modułu datetime).\n",
    "• w inicjatorze nadaj wartości zmiennym z podanych odpowiednio argumentów\n",
    "• dodaj odpowiednią metodę magiczną zwracają napis z reprezentacją obiektu\n",
    "• dodaj odpowiednią metodę magiczną umożliwiają sortowanie obiektów typu Travel wg klucza: najpierw\n",
    "sortowanie odbywa się wg ceny - od najtańszej do najdroższej, przy równości sortowanie odbywa się wg\n",
    "daty - od najstarszej do najnowszej.\n",
    "• dodaj odpowiednią metodę magiczną odpowiadającą za sprawdzanie równości obiektów tak, aby obiekty\n",
    "były równe, gdy jedynie zmienne goal i price są takie same."
   ]
  },
  {
   "cell_type": "code",
   "execution_count": 27,
   "outputs": [
    {
     "name": "stdout",
     "output_type": "stream",
     "text": [
      "aaa 111 21-11-2006\n",
      "aaa 111 6-1-2009\n",
      "bbbbb 555 16-7-2002\n",
      "\n",
      "aaa 111 21-11-2006\n",
      "aaa 111 6-1-2009\n",
      "bbbbb 555 16-7-2002\n",
      "\n",
      "True\n",
      "\n",
      "True\n"
     ]
    }
   ],
   "source": [
    "import datetime\n",
    "\n",
    "\n",
    "class Travel:\n",
    "    goal: str\n",
    "    price: float\n",
    "    travel_date: datetime.date\n",
    "\n",
    "    def __init__(self, goal, price, travel_date):\n",
    "        self.goal = goal\n",
    "        self.price = price\n",
    "        self.travel_date = travel_date\n",
    "\n",
    "    def __str__(self):\n",
    "        return f'{self.goal} {self.price} {self.travel_date}'\n",
    "\n",
    "    def __le__(self, other):\n",
    "        return ((self.price, self.travel_date) <= (other.price, other.travel_date))\n",
    "\n",
    "    def __eq__(self, other):\n",
    "        return ((self.goal, self.price) == (other.goal, other.price))\n",
    "\n",
    "\n",
    "t1 = Travel('aaa', 111, '21-11-2006')\n",
    "t2 = Travel('aaa', 111, '6-1-2009')\n",
    "t3 = Travel('bbbbb', 555, '16-7-2002')\n",
    "\n",
    "lista = [t1, t2, t3]\n",
    "for t in lista:\n",
    "    print(t.__str__())\n",
    "\n",
    "lista.sort(key=lambda x: x.price)\n",
    "print()\n",
    "\n",
    "for t in lista:\n",
    "    print(t.__str__())\n",
    "\n",
    "print()\n",
    "print(t1.__le__(t3))\n",
    "print()\n",
    "print(t1.__eq__(t2))"
   ],
   "metadata": {
    "collapsed": false,
    "pycharm": {
     "name": "#%%\n"
    }
   }
  },
  {
   "cell_type": "markdown",
   "source": [
    "(6pkt) Stwórz klasę TrainJourney dziedziczącą po Travel ze składowymi:\n",
    "• dodaj zmienne instancyjne train_class (int) oraz seat (str)\n",
    "• rozszerz __init__ by ustawiał dodatkowe dwa pola z argumentów\n",
    "• dodaj odpowiednią metodę magiczną zwracają napis z reprezentacją obiektu z uwzględnieniem zmiennych\n",
    "z klasy pochodnej"
   ],
   "metadata": {
    "collapsed": false,
    "pycharm": {
     "name": "#%% md\n"
    }
   }
  },
  {
   "cell_type": "code",
   "execution_count": 39,
   "outputs": [
    {
     "name": "stdout",
     "output_type": "stream",
     "text": [
      "aaa 523 22-4-2011 76 yes\n"
     ]
    }
   ],
   "source": [
    "class TrainJourney(Travel):\n",
    "    train_class: int\n",
    "    seat: str\n",
    "\n",
    "    def __init__(self, goal, price, travel_date, train_class, seat):\n",
    "        super(TrainJourney, self).__init__(goal, price, travel_date)\n",
    "        self.train_class = train_class\n",
    "        self.seat = seat\n",
    "\n",
    "    def __str__(self):\n",
    "        return super(TrainJourney, self).__str__() + f' {self.train_class} {self.seat}'\n",
    "\n",
    "\n",
    "tj1 = TrainJourney('aaa', 523, '22-4-2011', 76, 'yes')\n",
    "print(tj1.__str__())"
   ],
   "metadata": {
    "collapsed": false,
    "pycharm": {
     "name": "#%%\n"
    }
   }
  },
  {
   "cell_type": "markdown",
   "source": [
    "(6pkt) Stwórz klasę AirTravel dziedziczącą po Travel ze składowymi:\n",
    "• dodaj zmienne instancyjne airline (str) oraz seat (str)\n",
    "• rozszerz __init__ by ustawiał dodatkowe dwa pola z argumentów\n",
    "• dodaj odpowiednią metodę magiczną zwracają napis z reprezentacją obiektu z uwzględnieniem zmiennych\n",
    "z klasy pochodnej"
   ],
   "metadata": {
    "collapsed": false,
    "pycharm": {
     "name": "#%% md\n"
    }
   }
  },
  {
   "cell_type": "code",
   "execution_count": 37,
   "outputs": [],
   "source": [
    "class AirTravel(Travel):\n",
    "    airline: str\n",
    "    seat: str\n",
    "\n",
    "    def __init__(self, goal, price, travel_date, airline, seat):\n",
    "        super(AirTravel, self).__init__(goal, price, travel_date)\n",
    "        self.airline = airline\n",
    "        self.seat = seat\n",
    "\n",
    "    def __str__(self):\n",
    "        return super(AirTravel, self).__str__() + f' {self.airline} {self.seat}'"
   ],
   "metadata": {
    "collapsed": false,
    "pycharm": {
     "name": "#%%\n"
    }
   }
  },
  {
   "cell_type": "markdown",
   "source": [
    "(8pkt) Stwórz listę, w której będą po 3 obiekty typu Travel, AirTravel oraz TrainJourney. Następnie\n",
    "posortuj listę. Upewnij się, że “printując” listę wyświetlana jest reprezentacja obiektu pochodząca z\n",
    "odpowiedniej metody magicznej zdefiniowanej bezpośrednio we właściwej klasie."
   ],
   "metadata": {
    "collapsed": false,
    "pycharm": {
     "name": "#%% md\n"
    }
   }
  },
  {
   "cell_type": "code",
   "execution_count": 40,
   "outputs": [
    {
     "name": "stdout",
     "output_type": "stream",
     "text": [
      "yytrgg 44 19-4-2012 2 window\n",
      "uuuug 89 2-4-2016 2 coridor\n",
      "aaa 111 21-11-2006\n",
      "aaa 111 6-1-2009\n",
      "gdsgdf 188 1-4-2019 5 window\n",
      "43xvff 299 22-4-2011 17 coridor\n",
      "aaa 523 22-4-2011 76 yes\n",
      "bbbbb 555 16-7-2002\n",
      "dfgrg 955 30-4-2010 2 coridor\n"
     ]
    }
   ],
   "source": [
    "tj2 = TrainJourney('gdsgdf', 188, '1-4-2019', 5, 'window')\n",
    "tj3 = TrainJourney('43xvff', 299, '22-4-2011', 17, 'coridor')\n",
    "ta1 = AirTravel('uuuug', 89, '2-4-2016', 2, 'coridor')\n",
    "ta2 = AirTravel('yytrgg', 44, '19-4-2012', 2, 'window')\n",
    "ta3 = AirTravel('dfgrg', 955, '30-4-2010', 2, 'coridor')\n",
    "\n",
    "sorted_list = [t1, t2, t3, tj1, tj2, tj3, ta1, ta2, ta3]\n",
    "\n",
    "sorted_list.sort(key=lambda travel: travel.price)\n",
    "\n",
    "for price in sorted_list:\n",
    "    print(price.__str__())"
   ],
   "metadata": {
    "collapsed": false,
    "pycharm": {
     "name": "#%%\n"
    }
   }
  },
  {
   "cell_type": "markdown",
   "source": [
    "(10pkt) Stwórz klasę Person ze zmiennym name (str) oraz age (int). Dodaj inicjalizator ustawiający\n",
    "zmienne z argumentów. Następnie zaimplementuj odpowiednią metodę magiczną by uzyskać mechanizm\n",
    "płytkiej kopii (wnętrze dowolne). Następnie dodaj w klasie statyczną metodę z dwoma argumentami,\n",
    "która zwraca obiekt typu Person (argumenty tej metody ustawiają zmienne obiektu). Zaimplementuj\n",
    "odpowiednią metodę magiczną, która odpowiada za sprawdzanie nierówności tak, aby dwa obiekty nie\n",
    "były sobie równe wtedy, gdy mają różne wartości pola age.\n",
    "Poza klasą za pomocą metody statycznej stwórz dwa obiekty. Następnie wyświetl wynik sprawdzenia tego,\n",
    "czy obiekty nie są sobie równe."
   ],
   "metadata": {
    "collapsed": false,
    "pycharm": {
     "name": "#%% md\n"
    }
   }
  },
  {
   "cell_type": "code",
   "execution_count": 45,
   "outputs": [
    {
     "data": {
      "text/plain": "True"
     },
     "execution_count": 45,
     "metadata": {},
     "output_type": "execute_result"
    }
   ],
   "source": [
    "import copy\n",
    "\n",
    "\n",
    "class Person:\n",
    "    name: str\n",
    "    age: int\n",
    "\n",
    "    def __init__(self, name, age):\n",
    "        self.name = name\n",
    "        self.age = age\n",
    "\n",
    "    def __copy__(self):\n",
    "        return Person(self.name, self.age)\n",
    "\n",
    "    @staticmethod\n",
    "    def static(name, age):\n",
    "        return Person(name, age)\n",
    "\n",
    "    def __ne__(self, other):\n",
    "        return self.age != other.age\n",
    "\n",
    "\n",
    "p1 = Person('jan', 22)\n",
    "p2 = Person('jan', 22)\n",
    "\n",
    "p3 = Person.static('aaa', 10)\n",
    "p4 = Person.static('bbb', 22)\n",
    "p3.__ne__(p4)\n",
    "\n"
   ],
   "metadata": {
    "collapsed": false,
    "pycharm": {
     "name": "#%%\n"
    }
   }
  }
 ],
 "metadata": {
  "kernelspec": {
   "display_name": "Python 3",
   "language": "python",
   "name": "python3"
  },
  "language_info": {
   "codemirror_mode": {
    "name": "ipython",
    "version": 2
   },
   "file_extension": ".py",
   "mimetype": "text/x-python",
   "name": "python",
   "nbconvert_exporter": "python",
   "pygments_lexer": "ipython2",
   "version": "2.7.6"
  }
 },
 "nbformat": 4,
 "nbformat_minor": 0
}
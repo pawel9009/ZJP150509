{
 "cells": [
  {
   "cell_type": "markdown",
   "source": [
    "Stwórz klasę do przechowywania imion i nazwisk. Stwórz dwa obiekty w typie tej klasy"
   ],
   "metadata": {
    "collapsed": false
   }
  },
  {
   "cell_type": "code",
   "execution_count": 2,
   "outputs": [
    {
     "name": "stdout",
     "output_type": "stream",
     "text": [
      "pawel kowalski\n"
     ]
    }
   ],
   "source": [
    "class Osoba:\n",
    "    imie: str\n",
    "    nazwisko: str\n",
    "\n",
    "osoba1 = Osoba()\n",
    "osoba1.imie = 'pawel'\n",
    "osoba1.nazwisko = 'budzinski'\n",
    "\n",
    "osoba2 = Osoba()\n",
    "osoba2.imie = 'jan'\n",
    "osoba2.nazwisko = 'kowalski'\n",
    "print(osoba1.imie, osoba2.nazwisko)"
   ],
   "metadata": {
    "collapsed": false
   }
  },
  {
   "cell_type": "markdown",
   "source": [
    "Utwórz klasę Coin. Bezparametrowy konstruktor tej klasy powinien tworzyć atrybut (side) utrzymujący aktualną stronę monety. Zdefiniuj dwie metody: throw() - losowo “zmienia” stronę monety,\n",
    "show_side() - zwraca wartość atrybutu side. Utwórz kilka obiektów klasy Coin i wywołaj ich metody."
   ],
   "metadata": {
    "collapsed": false
   }
  },
  {
   "cell_type": "code",
   "execution_count": 25,
   "outputs": [
    {
     "name": "stdout",
     "output_type": "stream",
     "text": [
      "top\n",
      "bottom\n",
      "top\n",
      "bottom\n"
     ]
    }
   ],
   "source": [
    "import random\n",
    "class Coin:\n",
    "    def __init__(self, side):\n",
    "        self.side = side\n",
    "    def throw(self):\n",
    "        if random.randint(0,1):\n",
    "            self.side = 'bottom'\n",
    "        else:\n",
    "            self.side = 'top'\n",
    "\n",
    "    def show_side(self):\n",
    "        print(self.side)\n",
    "\n",
    "coin = Coin('top')\n",
    "coin.show_side()\n",
    "coin.throw()\n",
    "coin.show_side()\n",
    "coin.throw()\n",
    "coin.show_side()\n",
    "coin.throw()\n",
    "coin.show_side()\n"
   ],
   "metadata": {
    "collapsed": false
   }
  },
  {
   "cell_type": "markdown",
   "source": [
    "Napisz klasę opisującą prostokąt. Następnie wykonaj:\n",
    "a) dodaj w klasie metodę __init__ powinna przyjmować długości boków,\n",
    "b) dodaj w klasie metodę zwracająca pole powierzchni,\n",
    "c) otwórz dwa prostokąty,\n",
    "d) utworzone prostokąty dodaj do listy,\n",
    "e) wypisz pole powierzchni poszczególnych prostokątów, korzystając z listy,\n",
    "f) przygotuj funkcje (nie metodę), która przyjmie prostokąt jako parametr i wypisze długości jego boków\n",
    "i pole powierzchni, do wykonania teg"
   ],
   "metadata": {
    "collapsed": false
   }
  },
  {
   "cell_type": "code",
   "execution_count": 33,
   "outputs": [
    {
     "name": "stdout",
     "output_type": "stream",
     "text": [
      "a = 4.3\n",
      "b = 6.5\n",
      "surface = 27.95\n",
      "\n",
      "a = 1.8\n",
      "b = 4.2\n",
      "surface = 7.5600000000000005\n",
      "\n"
     ]
    }
   ],
   "source": [
    "def fun(object):\n",
    "    print(f'a = {object.a}')\n",
    "    print(f'b = {object.b}')\n",
    "    print(f'surface = {object.surface_area()}\\n')\n",
    "\n",
    "class Prostokat:\n",
    "    def __init__(self, a: float, b:float)->None:\n",
    "        self.a = a\n",
    "        self.b = b\n",
    "\n",
    "    def surface_area(self)->float:\n",
    "        return self.a * self.b\n",
    "\n",
    "\n",
    "pros1 = Prostokat(4.3, 6.5)\n",
    "pros2 = Prostokat(1.8, 4.2)\n",
    "\n",
    "objects = [pros1,pros2]\n",
    "\n",
    "for pr in objects:\n",
    "    fun(pr)"
   ],
   "metadata": {
    "collapsed": false
   }
  },
  {
   "cell_type": "markdown",
   "source": [
    "Napisz klasę do prostych obliczeń statystycznych (nazwij ją Stat). Jej składowe:\n",
    "a) inicjalizacja przy pomocy listy,\n",
    "b) metoda zwracająca wartość sumy całej listy,\n",
    "c) metoda obliczająca średnią arytmetyczną, metoda powinna skorzystać z poprzedniej metody,\n",
    "d) metoda obliczająca medianę,\n",
    "e) metoda obliczająca minimum,\n",
    "f) metoda obliczająca maximum.\n"
   ],
   "metadata": {
    "collapsed": false
   }
  },
  {
   "cell_type": "code",
   "execution_count": 81,
   "outputs": [
    {
     "name": "stdout",
     "output_type": "stream",
     "text": [
      "[4, 8, 56, 34]\n",
      "102\n",
      "25.5\n",
      "21.0\n",
      "4\n",
      "56\n",
      "\n",
      "[678, 24, 536, 11, 57, 4, 34]\n",
      "1344\n",
      "192.0\n",
      "34\n",
      "4\n",
      "678\n",
      "\n",
      "[1, 4, 7, 9, 35, 23, 18, 564, 24, 32, 64, 8, 56, 34]\n",
      "879\n",
      "62.785714285714285\n",
      "23.5\n",
      "1\n",
      "564\n"
     ]
    }
   ],
   "source": [
    "class Stat:\n",
    "    def __init__(self, list):\n",
    "        self.list = list\n",
    "        self.length = len(self.list)\n",
    "        self.sorted_list = sorted(self.list.copy())\n",
    "    def sum(self):\n",
    "        self.arr_sum = 0\n",
    "        for x in self.list:\n",
    "            self.arr_sum+=x\n",
    "        return self.arr_sum\n",
    "\n",
    "    def arithmetic_average(self):\n",
    "        return self.sum()/self.length\n",
    "\n",
    "    def median(self):\n",
    "\n",
    "        if self.length%2==1:\n",
    "            return self.sorted_list[self.length//2]\n",
    "        else:\n",
    "            index = self.length//2\n",
    "            return (self.sorted_list[index-1]+ self.sorted_list[index])/2\n",
    "\n",
    "    def minimum_val(self):\n",
    "        return self.sorted_list[0]\n",
    "\n",
    "    def maximum_val(self):\n",
    "        return self.sorted_list[-1]\n",
    "\n",
    "array1 = [4,8,56,34]\n",
    "array2 = [678,24,536,11,57,4,34]\n",
    "array3 = [1,4,7,9,35,23,18,564,24,32,64,8,56,34]\n",
    "s = Stat(array1)\n",
    "print(array1)\n",
    "print(s.sum())\n",
    "print(s.arithmetic_average())\n",
    "print(s.median())\n",
    "print(s.minimum_val())\n",
    "print(s.maximum_val())\n",
    "print()\n",
    "s2 = Stat(array2)\n",
    "print(array2)\n",
    "print(s2.sum())\n",
    "print(s2.arithmetic_average())\n",
    "print(s2.median())\n",
    "print(s2.minimum_val())\n",
    "print(s2.maximum_val())\n",
    "print()\n",
    "s3 = Stat(array3)\n",
    "print(array3)\n",
    "print(s3.sum())\n",
    "print(s3.arithmetic_average())\n",
    "print(s3.median())\n",
    "print(s3.minimum_val())\n",
    "print(s3.maximum_val())"
   ],
   "metadata": {
    "collapsed": false
   }
  }
 ],
 "metadata": {
  "kernelspec": {
   "display_name": "Python 3",
   "language": "python",
   "name": "python3"
  },
  "language_info": {
   "codemirror_mode": {
    "name": "ipython",
    "version": 2
   },
   "file_extension": ".py",
   "mimetype": "text/x-python",
   "name": "python",
   "nbconvert_exporter": "python",
   "pygments_lexer": "ipython2",
   "version": "2.7.6"
  }
 },
 "nbformat": 4,
 "nbformat_minor": 0
}

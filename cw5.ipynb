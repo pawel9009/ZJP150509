{
 "cells": [
  {
   "cell_type": "markdown",
   "metadata": {
    "collapsed": true,
    "pycharm": {
     "name": "#%% md\n"
    }
   },
   "source": [
    "Stwórz klasę BankAccount z następującymi elementami\n",
    "• __init__(self, number, balance=0) - tworzy nowe konto o podanym numerze i początkowym stanie\n",
    "konta (balance).\n",
    "• deposit(self, amount) - wpłaca zadaną ilość pieniędzy na konto.\n",
    "• withdraw(self, amount) - wypłaca zadaną ilość pieniędzy z konta.\n",
    "• merge_to(self, other_account) - przelewa wszystkie pieniądze z konta self na other_account.\n",
    "• __str__(self) - zwraca napis z informacjami o koncie."
   ]
  },
  {
   "cell_type": "code",
   "execution_count": 8,
   "outputs": [
    {
     "name": "stdout",
     "output_type": "stream",
     "text": [
      "bank o numerze 1 posiada kwote 10000\n",
      "bank o numerze 1 posiada kwote 9346\n",
      "bank o numerze 1 posiada kwote 55912\n",
      "bank o numerze 2 posiada kwote 0\n",
      "\n",
      "bank o numerze 1 posiada kwote 0\n",
      "bank o numerze 2 posiada kwote 55912\n"
     ]
    }
   ],
   "source": [
    "\n",
    "\n",
    "\n",
    "class BankAccount:\n",
    "    def __init__(self, number, balance = 0):\n",
    "        self.nummber = number\n",
    "        self.balance = balance\n",
    "\n",
    "    def deposit(self, amuount):\n",
    "        self.balance+= amuount\n",
    "\n",
    "    def withdraw(self, amuount):\n",
    "        if self.balance-amuount>=0:\n",
    "            self.balance-=amuount\n",
    "        else:\n",
    "            print('brak srodkow')\n",
    "\n",
    "    def merge_to(self, other_ac):\n",
    "        other_ac.balance+=self.balance\n",
    "        self.balance=0\n",
    "\n",
    "    def __str__(self):\n",
    "        return f'bank o numerze {self.nummber} posiada kwote {self.balance}'\n",
    "\n",
    "ac1 = BankAccount(1, 10000)\n",
    "print(ac1.__str__())\n",
    "ac1.withdraw(654)\n",
    "print(ac1.__str__())\n",
    "ac1.deposit(46566)\n",
    "print(ac1.__str__())\n",
    "ac2 = BankAccount(2, 0)\n",
    "print(ac2.__str__())\n",
    "ac1.merge_to(ac2)\n",
    "print()\n",
    "print(ac1.__str__())\n",
    "print(ac2.__str__())"
   ],
   "metadata": {
    "collapsed": false,
    "pycharm": {
     "name": "#%%\n"
    }
   }
  },
  {
   "cell_type": "markdown",
   "source": [
    "Stwórz klasę SavingsAccount dziedziczącą po BankAccount ze składowymi:\n",
    "• __init__(self, number, balance=0, interest_rate=0.05) - nowy konstruktor, który oprócz numeru i początkowego stanu konta przyjmuje też stopę odsetek na jeden okres kapitalizacji. Wewnętrznie,\n",
    "konstruktor wywołuje konstruktor BankAccount, przekazując mu number i balance.\n",
    "• get_interests(self) - wylicza odsetki, które powinny być naliczone podczas kapitalizacji. Odsetki\n",
    "to iloczyn stopy oprocentowania (podanej przy konstrukcji obiektu) oraz aktualnego stanu konta.\n",
    "• capitalize(self) - dolicza do stanu konta odsetki, obliczone przy pomocy get_interests."
   ],
   "metadata": {
    "collapsed": false,
    "pycharm": {
     "name": "#%% md\n"
    }
   }
  },
  {
   "cell_type": "code",
   "execution_count": 11,
   "outputs": [
    {
     "name": "stdout",
     "output_type": "stream",
     "text": [
      "bank o numerze 1 posiada kwote 1000\n",
      "bank o numerze 1 posiada kwote 1050.0\n",
      "bank o numerze 1 posiada kwote 1102.5\n"
     ]
    }
   ],
   "source": [
    "class SavingAccount(BankAccount):\n",
    "    def __init__(self, number, balance=0, interest_rate=0.05):\n",
    "        super(SavingAccount, self).__init__(number, balance)\n",
    "        self.interest_rate=interest_rate\n",
    "\n",
    "    def get_interests(self):\n",
    "        return self.balance*self.interest_rate\n",
    "\n",
    "    def capitalize(self):\n",
    "        self.balance+=self.get_interests()\n",
    "\n",
    "\n",
    "sa1 = SavingAccount(1,1000)\n",
    "print(sa1.__str__())\n",
    "sa1.capitalize()\n",
    "print(sa1.__str__())\n",
    "sa1.capitalize()\n",
    "print(sa1.__str__())"
   ],
   "metadata": {
    "collapsed": false,
    "pycharm": {
     "name": "#%%\n"
    }
   }
  },
  {
   "cell_type": "markdown",
   "source": [
    "Stwórz klasę CreditAccount dziedziczącą po SavingsAccount ze składowymi:\n",
    "• withdraw(self, amount) - robi to samo, co nadpisana metoda zdefiniowana w BankAccount, ale nie\n",
    "sprawdza, czy amount przekracza stan konta.\n",
    "• merge_to(self, other_account) - to samo, co merge_to zdefiniowana w BankAccount, ale tylko\n",
    "pod warunkiem, że stan konta self nie jest ujemny (w implementacji używa super(), aby wywołać\n",
    "merge_to z klasy wyżej w hierarchii).\n",
    "• get_interests(self) - oblicza wartość odsetek. Wartość wynosi 0, gdy stan konta jest ujemny,\n",
    "w przeciwnym wypadku jest naliczany identycznie, jak w SavingsAccount. Nie odnosi się jednak\n",
    "bezpośrednio do metod SavingsAccount."
   ],
   "metadata": {
    "collapsed": false,
    "pycharm": {
     "name": "#%% md\n"
    }
   }
  },
  {
   "cell_type": "code",
   "execution_count": 33,
   "outputs": [
    {
     "name": "stdout",
     "output_type": "stream",
     "text": [
      "bank o numerze 1 posiada kwote 10500.0\n",
      "bank o numerze 2 posiada kwote 543\n",
      "bank o numerze 2 posiada kwote 570.15\n",
      "\n",
      "bank o numerze 1 posiada kwote 0\n",
      "bank o numerze 2 posiada kwote 11070.15\n",
      "\n",
      "bank o numerze 3 posiada kwote -4789\n",
      "bank o numerze 3 posiada kwote -4789\n"
     ]
    }
   ],
   "source": [
    "class CreditAccount(SavingAccount):\n",
    "    def __init__(self, number, balance=0, interest_rate=0.05):\n",
    "        super(CreditAccount, self).__init__(number,balance,interest_rate)\n",
    "\n",
    "    def withdraw(self, amuount):\n",
    "        self.balance-=amuount\n",
    "\n",
    "    def merge_to(self, other_ac):\n",
    "        super(CreditAccount, self).merge_to(other_ac)\n",
    "        if self.balance>0:\n",
    "            other_ac.balance+=self.balance\n",
    "            self.balance=0\n",
    "\n",
    "    def get_interests(self):\n",
    "        if self.balance<0:\n",
    "            return 0\n",
    "        else:\n",
    "            return self.balance*self.interest_rate\n",
    "\n",
    "    def capitalize(self):\n",
    "        self.balance+=self.get_interests()\n",
    "\n",
    "ca1 = CreditAccount(1, 10000)\n",
    "ca1.capitalize()\n",
    "print(ca1.__str__())\n",
    "\n",
    "ca2 = CreditAccount(2,543)\n",
    "\n",
    "print(ca2.__str__())\n",
    "ca2.capitalize()\n",
    "\n",
    "\n",
    "print(ca2.__str__())\n",
    "ca1.merge_to(ca2)\n",
    "\n",
    "print()\n",
    "print(ca1.__str__())\n",
    "print(ca2.__str__())\n",
    "\n",
    "print()\n",
    "\n",
    "ca3 = CreditAccount(3,543)\n",
    "ca3.withdraw(5332)\n",
    "print(ca3.__str__())\n",
    "ca3.capitalize()\n",
    "print(ca3.__str__())"
   ],
   "metadata": {
    "collapsed": false,
    "pycharm": {
     "name": "#%%\n"
    }
   }
  },
  {
   "cell_type": "markdown",
   "source": [
    "Wykorzystując metody statyczne i klasowe zaimplementuj klasę Laptop tak, aby po uruchomieniu kodu"
   ],
   "metadata": {
    "collapsed": false,
    "pycharm": {
     "name": "#%% md\n"
    }
   }
  },
  {
   "cell_type": "code",
   "execution_count": 44,
   "outputs": [
    {
     "name": "stdout",
     "output_type": "stream",
     "text": [
      "Lenovo 5\n",
      "Dell 7\n"
     ]
    },
    {
     "data": {
      "text/plain": "<function __main__.Laptop.laptopCount()>"
     },
     "execution_count": 44,
     "metadata": {},
     "output_type": "execute_result"
    }
   ],
   "source": [
    "import gc\n",
    "class Laptop:\n",
    "    def __init__(self, name, count):\n",
    "        self.name = name\n",
    "        self.count =count\n",
    "\n",
    "    @staticmethod\n",
    "    def laptopCount():\n",
    "        pass\n",
    "\n",
    "\n",
    "lenovo = Laptop('Lenovo', 5)\n",
    "dell = Laptop('Dell', 7)\n",
    "print(lenovo.name, lenovo.count)\n",
    "print(dell.name, dell.count)\n",
    "Laptop.laptopCount"
   ],
   "metadata": {
    "collapsed": false,
    "pycharm": {
     "name": "#%%\n"
    }
   }
  }
 ],
 "metadata": {
  "kernelspec": {
   "display_name": "Python 3",
   "language": "python",
   "name": "python3"
  },
  "language_info": {
   "codemirror_mode": {
    "name": "ipython",
    "version": 2
   },
   "file_extension": ".py",
   "mimetype": "text/x-python",
   "name": "python",
   "nbconvert_exporter": "python",
   "pygments_lexer": "ipython2",
   "version": "2.7.6"
  }
 },
 "nbformat": 4,
 "nbformat_minor": 0
}
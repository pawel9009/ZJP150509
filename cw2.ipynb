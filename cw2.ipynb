{
 "cells": [
  {
   "cell_type": "markdown",
   "source": [
    "Utworzyć klasę Tree (drzewo), która będzie zawierała inicjalizator ustawiający następujące atrybuty:\n",
    "• name (imię drzewa)\n",
    "• height (wysokość drzewa [m])\n",
    "• leafs (liczba liści),\n",
    "oraz metody:\n",
    "• grow_up (rośnij wzwyż), która przyjmie argument liczbowy w postaci wysokości do dodania, a następnie\n",
    "zwiększy wysokość tego drzewa\n",
    "• grow_wide (rośnij wszerz), która przyjmie argument liczbowy w postaci liczby nowych liści,\n",
    "• show, która wyświetli na ekranie wszystkie parametry drzewa wraz z ich wartościami\n",
    "Utwórz 5 takich drzew (5 obiektów) i wyświetlić ich stan wewnętrzny, a następnie dla dwóch wybranych\n",
    "drzew zwiększyć wysokość i jeszcze raz wyświetlić ich stan wewnętrzny.\n",
    "• Dodaj metodę magiczną ‘str“ w powyższej klasie."
   ],
   "metadata": {
    "collapsed": false
   }
  },
  {
   "cell_type": "code",
   "execution_count": 3,
   "outputs": [
    {
     "name": "stdout",
     "output_type": "stream",
     "text": [
      "Name : 1, height : 57.4, leafs : 647\n",
      "Name : 2, height : 76.1, leafs : 523\n",
      "Name : 3, height : 48.8, leafs : 226\n",
      "Name : 4, height : 43, leafs : 1413\n",
      "Name : 5, height : 32.1, leafs : 1112\n",
      "1 57.4 647\n"
     ]
    }
   ],
   "source": [
    "class Tree:\n",
    "    def __init__(self, name, height, leafs):\n",
    "        self.name: str = name\n",
    "        self.height: float = height\n",
    "        self.leafs: int  = leafs\n",
    "\n",
    "    def grow(self, h):\n",
    "        self.height += h\n",
    "\n",
    "    def grow_wide(self, w):\n",
    "        self.leafs += w\n",
    "\n",
    "    def show(self):\n",
    "        print(f'Name : {self.name}, height : {self.height}, leafs : {self.leafs}')\n",
    "\n",
    "    def __str__(self):\n",
    "        print(self.name, self.height, self.leafs)\n",
    "\n",
    "tree1 = Tree('1', 23.4, 647)\n",
    "tree2 = Tree('2', 11.8, 523)\n",
    "tree3 = Tree('3', 6.4, 226)\n",
    "tree4 = Tree('4', 43, 657)\n",
    "tree5 = Tree('5', 32.1, 747)\n",
    "\n",
    "tree1.grow(34)\n",
    "tree2.grow(64.3)\n",
    "tree3.grow(42.4)\n",
    "tree4.grow_wide(756)\n",
    "tree5.grow_wide(365)\n",
    "\n",
    "tree1.show()\n",
    "tree2.show()\n",
    "tree3.show()\n",
    "tree4.show()\n",
    "tree5.show()\n",
    "\n",
    "tree1.__str__()\n"
   ],
   "metadata": {
    "collapsed": false
   }
  },
  {
   "cell_type": "markdown",
   "source": [
    "Stwórz klasę Calendar pełniącą funkcję kalendarza:\n",
    "• dodaj w klasie konstruktor przyjmujący dwa argumenty odpowiadające za miesiąc i rok\n",
    "• dodaj w klasie metodę show bez argumentu, która wyświetla w kolejnych dniach “kalendarz” od\n",
    "poniedziałku do niedzieli, max 7 dni, przykładowo dla października 2022\n"
   ],
   "metadata": {
    "collapsed": false
   }
  },
  {
   "cell_type": "code",
   "execution_count": 26,
   "outputs": [
    {
     "name": "stdout",
     "output_type": "stream",
     "text": [
      "\n",
      "        --------------------\n",
      "        MO TU WE TH FR SA SU\n",
      "        --------------------\n",
      "                        1 2\n",
      "        3   4  5  6  7  8 9\n",
      "        10 11 12 13 14 15 16\n",
      "        17 18 19 20 21 22 23\n",
      "        24 25 26 27 28 29 30\n",
      "        31\n",
      "        --------------------\n",
      "        \n"
     ]
    }
   ],
   "source": [
    "\n",
    "class Calendar:\n",
    "\n",
    "    def __init__(self, year, month):\n",
    "        self.year: int = year\n",
    "        self.month: int = month\n",
    "\n",
    "    def show(self):\n",
    "        print(\"\"\"\n",
    "        --------------------\n",
    "        MO TU WE TH FR SA SU\n",
    "        --------------------\n",
    "                        1 2\n",
    "        3   4  5  6  7  8 9\n",
    "        10 11 12 13 14 15 16\n",
    "        17 18 19 20 21 22 23\n",
    "        24 25 26 27 28 29 30\n",
    "        31\n",
    "        --------------------\n",
    "        \"\"\")\n",
    "\n",
    "calendar = Calendar(3,4)\n",
    "calendar.show()"
   ],
   "metadata": {
    "collapsed": false
   }
  },
  {
   "cell_type": "markdown",
   "source": [
    "Stwórz w programie dwie klasy Pies i WlascicielPsa. Pies musi być wyprowadzony na spacer jeśli\n",
    "spożywał posiłek więcej niż 5 godzin wcześniej. W klasie Pies dodaj metody:\n",
    "• UstawCzasPosilku(int), która ustawia ile godzin temu pies zjadł posiłek;\n",
    "• PobierzCzasPosilku(), która pobiera czas posiłku;\n",
    "• PotrzebnySpacer(), która zwraca true gdy pies musi być wyprowadzony na spacer.\n",
    "W klasie WlasicielPsa dodaj metodę ZabierzNaSpacer(Pies), która zwraca true gdy pies (będący para-\n",
    "metrem metody) musi być wyprowadzony na spacer. Przetestuj działanie powyższych metod"
   ],
   "metadata": {
    "collapsed": false
   }
  },
  {
   "cell_type": "code",
   "execution_count": 36,
   "outputs": [
    {
     "name": "stdout",
     "output_type": "stream",
     "text": [
      "4\n",
      "False\n",
      "False\n",
      "True\n",
      "True\n"
     ]
    }
   ],
   "source": [
    "from __future__ import annotations\n",
    "\n",
    "class Pies:\n",
    "\n",
    "    def UstawCzasPosilku(self,h):\n",
    "        self.czas = h\n",
    "\n",
    "    def PobierzCzasPosilku(self):\n",
    "        return self.czas\n",
    "\n",
    "    def PotrzebnySpacer(self):\n",
    "        if self.czas>5:\n",
    "            return True\n",
    "        return False\n",
    "\n",
    "class WlascicielPsa:\n",
    "    def ZabierzNaSpacer(self, pies:Pies)->Pies:\n",
    "        if pies.PotrzebnySpacer():\n",
    "            return True\n",
    "        return False\n",
    "\n",
    "pies = Pies()\n",
    "wlasciciel = WlascicielPsa()\n",
    "pies.UstawCzasPosilku(4)\n",
    "print(pies.PobierzCzasPosilku())\n",
    "print(wlasciciel.ZabierzNaSpacer(pies))\n",
    "print(pies.PotrzebnySpacer())\n",
    "pies.UstawCzasPosilku(6)\n",
    "print(pies.PotrzebnySpacer())\n",
    "print(wlasciciel.ZabierzNaSpacer(pies))"
   ],
   "metadata": {
    "collapsed": false
   }
  },
  {
   "cell_type": "markdown",
   "source": [
    "Stwórz klasę Konto z kilkoma polami, metodami i konstruktorami (saldo początkowe, końcowe, przelew\n",
    "miedzy kontami, przelew zewnętrzny, wplata, wyplata itd.) Następnie utwórz co najmniej 3 obiekty i\n",
    "wykonaj kilka metody na nich."
   ],
   "metadata": {
    "collapsed": false
   }
  },
  {
   "cell_type": "code",
   "execution_count": 39,
   "outputs": [
    {
     "name": "stdout",
     "output_type": "stream",
     "text": [
      "50\n",
      "250\n"
     ]
    }
   ],
   "source": [
    "class Konto:\n",
    "    def __init__(self, saldo_pocz):\n",
    "        self.saldo = saldo_pocz\n",
    "\n",
    "    def wplata(self, i):\n",
    "        self.saldo += i\n",
    "\n",
    "    def wyplata(self, i):\n",
    "        self.saldo -= i\n",
    "\n",
    "    def przelew_m_kontami(self,kwota, Konto):\n",
    "        if self.saldo>kwota:\n",
    "            self.saldo-=kwota\n",
    "            Konto.wplata(kwota)\n",
    "\n",
    "konto1 = Konto(100)\n",
    "konto2 = Konto(200)\n",
    "\n",
    "konto1.przelew_m_kontami(50,konto2)\n",
    "print(konto1.saldo)\n",
    "print(konto2.saldo)"
   ],
   "metadata": {
    "collapsed": false
   }
  }
 ],
 "metadata": {
  "kernelspec": {
   "display_name": "Python 3",
   "language": "python",
   "name": "python3"
  },
  "language_info": {
   "codemirror_mode": {
    "name": "ipython",
    "version": 2
   },
   "file_extension": ".py",
   "mimetype": "text/x-python",
   "name": "python",
   "nbconvert_exporter": "python",
   "pygments_lexer": "ipython2",
   "version": "2.7.6"
  }
 },
 "nbformat": 4,
 "nbformat_minor": 0
}

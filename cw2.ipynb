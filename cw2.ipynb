{
 "cells": [
  {
   "cell_type": "markdown",
   "source": [
    "Utworzyć klasę Tree (drzewo), która będzie zawierała inicjalizator ustawiający następujące atrybuty: • name (imię drzewa) • height (wysokość drzewa [m]) • leafs (liczba liści), oraz metody: • grow_up (rośnij wzwyż), która przyjmie argument liczbowy w postaci wysokości do dodania, a następnie zwiększy wysokość tego drzewa • grow_wide (rośnij wszerz), która przyjmie argument liczbowy w postaci liczby nowych liści, • show, która wyświetli na ekranie wszystkie parametry drzewa wraz z ich wartościami Utwórz 5 takich drzew (5 obiektów) i wyświetlić ich stan wewnętrzny, a następnie dla dwóch wybranych drzew zwiększyć wysokość i jeszcze raz wyświetlić ich stan wewnętrzny. • Dodaj metodę magiczną ‘str“ w powyższej klasie."
   ],
   "metadata": {
    "collapsed": false
   }
  },
  {
   "cell_type": "code",
   "execution_count": 33,
   "outputs": [
    {
     "name": "stdout",
     "output_type": "stream",
     "text": [
      "Name : 1, height : 57.4, leafs : 647\n",
      "Name : 2, height : 76.1, leafs : 523\n",
      "Name : 3, height : 48.8, leafs : 226\n",
      "Name : 4, height : 43, leafs : 1413\n",
      "Name : 5, height : 32.1, leafs : 1112\n",
      "1 57.4 647\n"
     ]
    }
   ],
   "source": [
    "class Tree:\n",
    "    def __init__(self, name, height, leafs):\n",
    "        self.name: str = name\n",
    "        self.height: float = height\n",
    "        self.leafs: int  = leafs\n",
    "\n",
    "    def grow(self, h):\n",
    "        self.height += h\n",
    "\n",
    "    def grow_wide(self, w):\n",
    "        self.leafs += w\n",
    "\n",
    "    def show(self):\n",
    "        print(f'Name : {self.name}, height : {self.height}, leafs : {self.leafs}')\n",
    "\n",
    "    def __str__(self):\n",
    "        print(self.name, self.height, self.leafs)\n",
    "\n",
    "tree1 = Tree('1', 23.4, 647)\n",
    "tree2 = Tree('2', 11.8, 523)\n",
    "tree3 = Tree('3', 6.4, 226)\n",
    "tree4 = Tree('4', 43, 657)\n",
    "tree5 = Tree('5', 32.1, 747)\n",
    "\n",
    "tree1.grow(34)\n",
    "tree2.grow(64.3)\n",
    "tree3.grow(42.4)\n",
    "tree4.grow_wide(756)\n",
    "tree5.grow_wide(365)\n",
    "\n",
    "tree1.show()\n",
    "tree2.show()\n",
    "tree3.show()\n",
    "tree4.show()\n",
    "tree5.show()\n",
    "\n",
    "tree1.__str__()"
   ],
   "metadata": {
    "collapsed": false
   }
  },
  {
   "cell_type": "markdown",
   "source": [
    "Stwórz klasę Calendar pełniącą funkcję kalendarza: • dodaj w klasie konstruktor przyjmujący dwa argumenty odpowiadające za miesiąc i rok • dodaj w klasie metodę show bez argumentu, która wyświetla w kolejnych dniach “kalendarz” od poniedziałku do niedzieli, max 7 dni, przykładowo dla października 2022"
   ],
   "metadata": {
    "collapsed": false
   }
  },
  {
   "cell_type": "code",
   "execution_count": 34,
   "outputs": [
    {
     "name": "stdout",
     "output_type": "stream",
     "text": [
      "\n",
      "        --------------------\n",
      "        MO TU WE TH FR SA SU\n",
      "        --------------------\n",
      "                        1 2\n",
      "        3   4  5  6  7  8 9\n",
      "        10 11 12 13 14 15 16\n",
      "        17 18 19 20 21 22 23\n",
      "        24 25 26 27 28 29 30\n",
      "        31\n",
      "        --------------------\n",
      "        \n"
     ]
    }
   ],
   "source": [
    "class Calendar:\n",
    "\n",
    "    def __init__(self, year, month):\n",
    "        self.year: int = year\n",
    "        self.month: int = month\n",
    "\n",
    "    def show(self):\n",
    "        print(\"\"\"\n",
    "        --------------------\n",
    "        MO TU WE TH FR SA SU\n",
    "        --------------------\n",
    "                        1 2\n",
    "        3   4  5  6  7  8 9\n",
    "        10 11 12 13 14 15 16\n",
    "        17 18 19 20 21 22 23\n",
    "        24 25 26 27 28 29 30\n",
    "        31\n",
    "        --------------------\n",
    "        \"\"\")\n",
    "\n",
    "calendar = Calendar(3,4)\n",
    "calendar.show()"
   ],
   "metadata": {
    "collapsed": false
   }
  },
  {
   "cell_type": "markdown",
   "source": [
    "Stwórz w programie dwie klasy Pies i WlascicielPsa. Pies musi być wyprowadzony na spacer jeśli spożywał posiłek więcej niż 5 godzin wcześniej. W klasie Pies dodaj metody: • UstawCzasPosilku(int), która ustawia ile godzin temu pies zjadł posiłek; • PobierzCzasPosilku(), która pobiera czas posiłku; • PotrzebnySpacer(), która zwraca true gdy pies musi być wyprowadzony na spacer. W klasie WlasicielPsa dodaj metodę ZabierzNaSpacer(Pies), która zwraca true gdy pies (będący para- metrem metody) musi być wyprowadzony na spacer. Przetestuj działanie powyższych metod"
   ],
   "metadata": {
    "collapsed": false
   }
  },
  {
   "cell_type": "code",
   "execution_count": 35,
   "outputs": [
    {
     "name": "stdout",
     "output_type": "stream",
     "text": [
      "4\n",
      "False\n",
      "False\n",
      "True\n",
      "True\n"
     ]
    }
   ],
   "source": [
    "from __future__ import annotations\n",
    "\n",
    "class Pies:\n",
    "    \n",
    "    def UstawCzasPosilku(self,h):\n",
    "        self.czas = h\n",
    "\n",
    "    def PobierzCzasPosilku(self):\n",
    "        return self.czas\n",
    "\n",
    "    def PotrzebnySpacer(self):\n",
    "        if self.czas>5:\n",
    "            return True\n",
    "        return False\n",
    "\n",
    "class WlascicielPsa:\n",
    "    def ZabierzNaSpacer(self, pies:Pies)->Pies:\n",
    "        if pies.PotrzebnySpacer():\n",
    "            return True\n",
    "        return False\n",
    "\n",
    "pies = Pies()\n",
    "wlasciciel = WlascicielPsa()\n",
    "pies.UstawCzasPosilku(4)\n",
    "print(pies.PobierzCzasPosilku())\n",
    "print(wlasciciel.ZabierzNaSpacer(pies))\n",
    "print(pies.PotrzebnySpacer())\n",
    "pies.UstawCzasPosilku(6)\n",
    "print(pies.PotrzebnySpacer())\n",
    "print(wlasciciel.ZabierzNaSpacer(pies))"
   ],
   "metadata": {
    "collapsed": false
   }
  },
  {
   "cell_type": "code",
   "execution_count": 36,
   "outputs": [
    {
     "name": "stdout",
     "output_type": "stream",
     "text": [
      "50\n",
      "250\n",
      "brak srodkow\n",
      "\n",
      "50\n",
      "1096\n",
      "565\n"
     ]
    }
   ],
   "source": [
    "class Konto:\n",
    "    def __init__(self, saldo_pocz):\n",
    "        self.saldo = saldo_pocz\n",
    "\n",
    "    def wplata(self, i):\n",
    "        self.saldo += i\n",
    "\n",
    "    def wyplata(self, i):\n",
    "        if self.saldo >=i:\n",
    "            self.saldo -= i\n",
    "        else:\n",
    "            print('brak srodkow')\n",
    "\n",
    "    def przelew_m_kontami(self,kwota, Konto):\n",
    "        if self.saldo>kwota:\n",
    "            self.saldo-=kwota\n",
    "            Konto.wplata(kwota)\n",
    "\n",
    "    def przelew(self, kwota):\n",
    "        if self.saldo>=kwota:\n",
    "            self.saldo-=kwota\n",
    "        else:\n",
    "            print('brak srodkow')\n",
    "\n",
    "konto1 = Konto(100)\n",
    "konto2 = Konto(200)\n",
    "konto3 = Konto(1000)\n",
    "\n",
    "konto1.przelew_m_kontami(50,konto2)\n",
    "print(konto1.saldo)\n",
    "print(konto2.saldo)\n",
    "konto2.wplata(534)\n",
    "konto3.przelew(123)\n",
    "konto1.wyplata(523)\n",
    "print()\n",
    "\n",
    "konto3.przelew_m_kontami(312, konto2)\n",
    "print(konto1.saldo)\n",
    "print(konto2.saldo)\n",
    "print(konto3.saldo)"
   ],
   "metadata": {
    "collapsed": false
   }
  },
  {
   "cell_type": "markdown",
   "source": [
    "Utwórz klasę Smartphone. Konstruktor klasy powinien tworzyć i inicjalizować trzy prywatne atrybuty:\n",
    "manufacturer, model i price. Zdefiniuj w tej klasie metody ustawiające i wyświetlające wartości\n",
    "atrybutów.\n",
    "1\n",
    "Napisz program tworzący listę kilku obiektów klasy Smartphone i wyświetlający je.|"
   ],
   "metadata": {
    "collapsed": false
   }
  },
  {
   "cell_type": "code",
   "execution_count": 37,
   "outputs": [
    {
     "name": "stdout",
     "output_type": "stream",
     "text": [
      "adsd\n",
      "t54\n",
      "1000\n",
      "\n",
      "yugh\n",
      "a1\n",
      "2000\n",
      "\n",
      "ggtd\n",
      "p90\n",
      "3000\n",
      "\n"
     ]
    }
   ],
   "source": [
    "class Smartphone:\n",
    "    def __init__(self):\n",
    "        self._manufacturer: str = ''\n",
    "        self._model : str = ''\n",
    "        self._price : float = .0\n",
    "\n",
    "    def set_atrr(self, manu, model, price):\n",
    "        self._manufacturer = manu\n",
    "        self._price=price\n",
    "        self._model=model\n",
    "\n",
    "    def show_atrr(self):\n",
    "        print(self._manufacturer)\n",
    "        print(self._model)\n",
    "        print(self._price)\n",
    "\n",
    "sm1 = Smartphone()\n",
    "sm2 = Smartphone()\n",
    "sm3 = Smartphone()\n",
    "\n",
    "sm1.set_atrr('adsd','t54',1000)\n",
    "sm2.set_atrr('yugh','a1',2000)\n",
    "sm3.set_atrr('ggtd','p90',3000)\n",
    "\n",
    "list_sm = [sm1,sm2,sm3]\n",
    "\n",
    "for sm in list_sm:\n",
    "    sm.show_atrr()\n",
    "    print()"
   ],
   "metadata": {
    "collapsed": false
   }
  },
  {
   "cell_type": "markdown",
   "source": [
    "Napisz klasę Ulamek, która przechowuje ułamki postaci a\n",
    "b . Klasa przechowuje dwa pola: licznik i\n",
    "mianownik. Napisz metodę skroc(), która skraca ułamek, wymaga obliczenia największego wspólnego\n",
    "dzielnika."
   ],
   "metadata": {
    "collapsed": false
   }
  },
  {
   "cell_type": "code",
   "execution_count": 38,
   "outputs": [
    {
     "name": "stdout",
     "output_type": "stream",
     "text": [
      "88\n",
      "-\n",
      "100\n",
      "\n",
      "po skroceniu\n",
      "22.0\n",
      "-\n",
      "25.0\n",
      "\n",
      "6\n",
      "-\n",
      "24\n",
      "\n",
      "po skroceniu\n",
      "1.0\n",
      "-\n",
      "4.0\n",
      "\n"
     ]
    }
   ],
   "source": [
    "class Ulamek:\n",
    "    def __init__(self, licznik, mianownik):\n",
    "        self.licznik = licznik\n",
    "        self.mianownik = mianownik\n",
    "\n",
    "    def show(self):\n",
    "        print(f'{self.licznik}\\n-\\n{self.mianownik}')\n",
    "        print()\n",
    "\n",
    "    def skroc(self):\n",
    "        a = self.licznik\n",
    "        b = self.mianownik\n",
    "        while b:\n",
    "            a, b = b, a%b\n",
    "        print('po skroceniu')\n",
    "        self.licznik /= a\n",
    "        self.mianownik /= a\n",
    "\n",
    "\n",
    "u = Ulamek(88,100)\n",
    "u2= Ulamek(6,24)\n",
    "u.show()\n",
    "u.skroc()\n",
    "u.show()\n",
    "\n",
    "u2.show()\n",
    "u2.skroc()\n",
    "u2.show()"
   ],
   "metadata": {
    "collapsed": false
   }
  }
 ],
 "metadata": {
  "kernelspec": {
   "display_name": "Python 3",
   "language": "python",
   "name": "python3"
  },
  "language_info": {
   "codemirror_mode": {
    "name": "ipython",
    "version": 2
   },
   "file_extension": ".py",
   "mimetype": "text/x-python",
   "name": "python",
   "nbconvert_exporter": "python",
   "pygments_lexer": "ipython2",
   "version": "2.7.6"
  }
 },
 "nbformat": 4,
 "nbformat_minor": 0
}
